{
  "nbformat": 4,
  "nbformat_minor": 0,
  "metadata": {
    "colab": {
      "name": "Zixuan_Li_Homework2.ipynb",
      "provenance": []
    },
    "kernelspec": {
      "name": "python3",
      "display_name": "Python 3"
    },
    "language_info": {
      "name": "python"
    }
  },
  "cells": [
    {
      "cell_type": "markdown",
      "metadata": {
        "id": "vjJEcgoxMgEw"
      },
      "source": [
        "<p><img alt=\"Colaboratory logo\" height=\"45px\" src=\"/img/colab_favicon.ico\" align=\"left\" hspace=\"10px\" vspace=\"0px\"></p>\n",
        "\n",
        "\n",
        "\n",
        "# **Homework 2 (Zixuan Li):**\n",
        "\n",
        "\n",
        "---\n",
        "\n",
        "\n",
        "- Please complete each of the problems below\n",
        "- Show all your code to complete each question\n",
        "- Provide sentence(s) explaining your solution\n",
        "\n",
        "\n",
        "\n",
        "It is recommended that you read chapters 8, 9, and 10 to prepare for this module!"
      ]
    },
    {
      "cell_type": "markdown",
      "metadata": {
        "id": "znO59SazSoQ2"
      },
      "source": [
        "**Please use the following dataset for problems 1 - 6**\n",
        "\n",
        "\n",
        "\n"
      ]
    },
    {
      "cell_type": "code",
      "metadata": {
        "id": "qLDi6YEBStT1",
        "colab": {
          "base_uri": "https://localhost:8080/",
          "height": 419
        },
        "outputId": "a9f2309d-4c0f-45a7-f43b-7ce3b6f335a3"
      },
      "source": [
        "import pandas as pd\n",
        "import seaborn as sns\n",
        "import matplotlib.pyplot as plt\n",
        "\n",
        "from scipy import stats\n",
        "import sklearn\n",
        "from sklearn.metrics import *\n",
        "from sklearn.naive_bayes import GaussianNB\n",
        "from sklearn import linear_model, dummy, metrics\n",
        "from sklearn.dummy import DummyClassifier\n",
        "from sklearn.cluster import KMeans\n",
        "\n",
        "\n",
        "URL_Framingham_training='https://raw.githubusercontent.com/kamranbakhtiari/DESC624/main/Framingham_Training'\n",
        "URL_Framingham_test='https://raw.githubusercontent.com/kamranbakhtiari/DESC624/main/Framingham_Test'\n",
        "\n",
        "Framingham_test = pd.read_csv('https://raw.githubusercontent.com/kamranbakhtiari/DESC624/main/Framingham_Test')\n",
        "Framingham_training = pd.read_csv('https://raw.githubusercontent.com/kamranbakhtiari/DESC624/main/Framingham_Training')\n",
        "\n",
        "\n",
        "##Use training data set to answer questions below\n",
        "\n",
        "Framingham_test\n"
      ],
      "execution_count": 1,
      "outputs": [
        {
          "output_type": "execute_result",
          "data": {
            "text/html": [
              "<div>\n",
              "<style scoped>\n",
              "    .dataframe tbody tr th:only-of-type {\n",
              "        vertical-align: middle;\n",
              "    }\n",
              "\n",
              "    .dataframe tbody tr th {\n",
              "        vertical-align: top;\n",
              "    }\n",
              "\n",
              "    .dataframe thead th {\n",
              "        text-align: right;\n",
              "    }\n",
              "</style>\n",
              "<table border=\"1\" class=\"dataframe\">\n",
              "  <thead>\n",
              "    <tr style=\"text-align: right;\">\n",
              "      <th></th>\n",
              "      <th>Index</th>\n",
              "      <th>Sex</th>\n",
              "      <th>Age</th>\n",
              "      <th>Educ</th>\n",
              "      <th>Death</th>\n",
              "    </tr>\n",
              "  </thead>\n",
              "  <tbody>\n",
              "    <tr>\n",
              "      <th>0</th>\n",
              "      <td>4</td>\n",
              "      <td>2</td>\n",
              "      <td>52</td>\n",
              "      <td>2</td>\n",
              "      <td>0</td>\n",
              "    </tr>\n",
              "    <tr>\n",
              "      <th>1</th>\n",
              "      <td>6</td>\n",
              "      <td>1</td>\n",
              "      <td>48</td>\n",
              "      <td>1</td>\n",
              "      <td>0</td>\n",
              "    </tr>\n",
              "    <tr>\n",
              "      <th>2</th>\n",
              "      <td>10</td>\n",
              "      <td>2</td>\n",
              "      <td>46</td>\n",
              "      <td>3</td>\n",
              "      <td>0</td>\n",
              "    </tr>\n",
              "    <tr>\n",
              "      <th>3</th>\n",
              "      <td>14</td>\n",
              "      <td>2</td>\n",
              "      <td>49</td>\n",
              "      <td>2</td>\n",
              "      <td>0</td>\n",
              "    </tr>\n",
              "    <tr>\n",
              "      <th>4</th>\n",
              "      <td>16</td>\n",
              "      <td>2</td>\n",
              "      <td>63</td>\n",
              "      <td>1</td>\n",
              "      <td>0</td>\n",
              "    </tr>\n",
              "    <tr>\n",
              "      <th>...</th>\n",
              "      <td>...</td>\n",
              "      <td>...</td>\n",
              "      <td>...</td>\n",
              "      <td>...</td>\n",
              "      <td>...</td>\n",
              "    </tr>\n",
              "    <tr>\n",
              "      <th>2252</th>\n",
              "      <td>11307</td>\n",
              "      <td>2</td>\n",
              "      <td>56</td>\n",
              "      <td>1</td>\n",
              "      <td>0</td>\n",
              "    </tr>\n",
              "    <tr>\n",
              "      <th>2253</th>\n",
              "      <td>11313</td>\n",
              "      <td>1</td>\n",
              "      <td>68</td>\n",
              "      <td>1</td>\n",
              "      <td>1</td>\n",
              "    </tr>\n",
              "    <tr>\n",
              "      <th>2254</th>\n",
              "      <td>11323</td>\n",
              "      <td>2</td>\n",
              "      <td>50</td>\n",
              "      <td>1</td>\n",
              "      <td>1</td>\n",
              "    </tr>\n",
              "    <tr>\n",
              "      <th>2255</th>\n",
              "      <td>11326</td>\n",
              "      <td>2</td>\n",
              "      <td>58</td>\n",
              "      <td>2</td>\n",
              "      <td>0</td>\n",
              "    </tr>\n",
              "    <tr>\n",
              "      <th>2256</th>\n",
              "      <td>11328</td>\n",
              "      <td>1</td>\n",
              "      <td>46</td>\n",
              "      <td>3</td>\n",
              "      <td>0</td>\n",
              "    </tr>\n",
              "  </tbody>\n",
              "</table>\n",
              "<p>2257 rows × 5 columns</p>\n",
              "</div>"
            ],
            "text/plain": [
              "      Index  Sex  Age  Educ  Death\n",
              "0         4    2   52     2      0\n",
              "1         6    1   48     1      0\n",
              "2        10    2   46     3      0\n",
              "3        14    2   49     2      0\n",
              "4        16    2   63     1      0\n",
              "...     ...  ...  ...   ...    ...\n",
              "2252  11307    2   56     1      0\n",
              "2253  11313    1   68     1      1\n",
              "2254  11323    2   50     1      1\n",
              "2255  11326    2   58     2      0\n",
              "2256  11328    1   46     3      0\n",
              "\n",
              "[2257 rows x 5 columns]"
            ]
          },
          "metadata": {
            "tags": []
          },
          "execution_count": 1
        }
      ]
    },
    {
      "cell_type": "markdown",
      "metadata": {
        "id": "xujDJlgGNdSt"
      },
      "source": [
        "**1. Convert Death, Sex, and education to factors**\n",
        "\n",
        "\n",
        "\n"
      ]
    },
    {
      "cell_type": "code",
      "metadata": {
        "id": "CHDeKB_bNza5",
        "colab": {
          "base_uri": "https://localhost:8080/"
        },
        "outputId": "fb23d42f-115b-4895-8d1d-8f4d217132d8"
      },
      "source": [
        "categ = ['Death', 'Sex', 'Educ']\n",
        "for i in categ:\n",
        "  Framingham_training[i] = Framingham_training[i].astype('category')\n",
        "Framingham_training.dtypes"
      ],
      "execution_count": 2,
      "outputs": [
        {
          "output_type": "execute_result",
          "data": {
            "text/plain": [
              "Index       int64\n",
              "Sex      category\n",
              "Age         int64\n",
              "Educ     category\n",
              "Death    category\n",
              "dtype: object"
            ]
          },
          "metadata": {
            "tags": []
          },
          "execution_count": 2
        }
      ]
    },
    {
      "cell_type": "markdown",
      "metadata": {
        "id": "08xfIQQIN11C"
      },
      "source": [
        "I used .astype() method and a for loop to change the data type of these fields to categorical."
      ]
    },
    {
      "cell_type": "markdown",
      "metadata": {
        "id": "9m5Z9SUiN902"
      },
      "source": [
        "**2. Create 2 contingency tables, one with death and sex and another with death and educ**"
      ]
    },
    {
      "cell_type": "code",
      "metadata": {
        "id": "j1-jL8vNOLHq",
        "colab": {
          "base_uri": "https://localhost:8080/"
        },
        "outputId": "88ee318b-b196-4f74-f16a-69a77c28a91f"
      },
      "source": [
        "ct1 = pd.crosstab(Framingham_training['Death'], Framingham_training['Sex'], margins=True)\n",
        "print(ct1)\n",
        "ct2 = pd.crosstab(Framingham_training['Death'], Framingham_training['Educ'], margins=True)\n",
        "print(ct2)"
      ],
      "execution_count": 3,
      "outputs": [
        {
          "output_type": "stream",
          "text": [
            "Sex       1     2   All\n",
            "Death                  \n",
            "0      2113  3422  5535\n",
            "1      1324  1094  2418\n",
            "All    3437  4516  7953\n",
            "Educ      1     2     3    4   All\n",
            "Death                             \n",
            "0      2060  1825   960  690  5535\n",
            "1      1244   603   346  225  2418\n",
            "All    3304  2428  1306  915  7953\n"
          ],
          "name": "stdout"
        }
      ]
    },
    {
      "cell_type": "markdown",
      "metadata": {
        "id": "W4g6RJyqOMeF"
      },
      "source": [
        "I used the .crosstab() method in pandas package to create these contingency tables, by assigning margins=True, the subtotals will be shown in the results."
      ]
    },
    {
      "cell_type": "markdown",
      "metadata": {
        "id": "kUaTYgj7Ou9e"
      },
      "source": [
        "**3. Use the tables in previous exercise to calculate**\n",
        "\n",
        "1.   The probability a randomly selected person is alive or dead\n",
        "2.   The probability a randomly selected person is male\n",
        "3.   The probability a randomly selected person has an Educ value of 3\n",
        "4.   The probabilities that a dead person is male with education level 1, and that a living person is male with education level 1\n",
        "5.   the probabilities that a living person is female withe education level 2, and that a dead person is female with education level 2"
      ]
    },
    {
      "cell_type": "code",
      "metadata": {
        "id": "zi3dD24DP7y6",
        "colab": {
          "base_uri": "https://localhost:8080/"
        },
        "outputId": "9c0a3595-921b-43b6-83bb-76895b2edcc8"
      },
      "source": [
        "prob1 = ct1['All'][1]/ct1['All']['All']\n",
        "prob2 = ct1[1]['All']/ct1['All']['All']\n",
        "prob3 = ct2[3]['All']/ct2['All']['All']\n",
        "prob4_1 = ct1[1][1]/ct1['All'][1]*ct2[1][1]/ct2['All'][1]\n",
        "prob4_2 = ct1[1][0]/ct1['All'][0]*ct2[1][0]/ct2['All'][0]\n",
        "prob5_1 = ct1[2][0]/ct1['All'][0]*ct2[2][0]/ct2['All'][0]\n",
        "prob5_2 = ct1[2][1]/ct1['All'][1]*ct2[2][1]/ct2['All'][1]\n",
        "print(f'''The probability that a randomly selected person is dead is {round(prob1*100, 2)}%.''')\n",
        "print(f'''The probability that a randomly selected person is male is {round(prob2*100, 2)}%, assuming 1 represents male.''')\n",
        "print(f'''The probability that a randomly selected person has an Educ value of 3 is {round(prob3*100, 2)}%.''')\n",
        "print(f'''The probability that a dead person is male with education level 1 is {round(prob4_1*100, 2)}%.''')\n",
        "print(f'''The probability that a living person is male with education level 1 is {round(prob4_2*100, 2)}%.''')\n",
        "print(f'''The probability that a living person is female with education level 2 is {round(prob5_1*100, 2)}%.''')\n",
        "print(f'''The probability that a dead person is female with education level 2 is {round(prob5_2*100, 2)}%.''')"
      ],
      "execution_count": 4,
      "outputs": [
        {
          "output_type": "stream",
          "text": [
            "The probability that a randomly selected person is dead is 30.4%.\n",
            "The probability that a randomly selected person is male is 43.22%, assuming 1 represents male.\n",
            "The probability that a randomly selected person has an Educ value of 3 is 16.42%.\n",
            "The probability that a dead person is male with education level 1 is 28.17%.\n",
            "The probability that a living person is male with education level 1 is 14.21%.\n",
            "The probability that a living person is female with education level 2 is 20.38%.\n",
            "The probability that a dead person is female with education level 2 is 11.28%.\n"
          ],
          "name": "stdout"
        }
      ]
    },
    {
      "cell_type": "markdown",
      "metadata": {
        "id": "EsNBcf_8P9V_"
      },
      "source": [
        "1.   P(dead) = dead/all\n",
        "2.   P(male) = male/all (assuming 1 represents male)\n",
        "3.   P(Educ3) = Educ3/All\n",
        "4.   P(dead is male&Educ1) = P(dead is male)*P(dead is Educ1)\n",
        "\n",
        "  P(living is male&Educ1) = P(living is male)*P(living is Educ1)\n",
        "5.   P(living is female&Educ2) = P(living is female)*P(living is Educ2)\n",
        "\n",
        "  P(dead is female&Educ2) = P(dead is female)*P(dead is Educ2)"
      ]
    },
    {
      "cell_type": "markdown",
      "metadata": {
        "id": "nCax9VPUQACJ"
      },
      "source": [
        "**4. Create side-by-side bar graphs for death, one with an overlay of Sex and the other with an overlay of Educ**"
      ]
    },
    {
      "cell_type": "code",
      "metadata": {
        "id": "PkoTGcubRfDV",
        "colab": {
          "base_uri": "https://localhost:8080/",
          "height": 296
        },
        "outputId": "4f529de5-9d55-4b72-a843-78bfde778935"
      },
      "source": [
        "# Barplot Death Overlay Sex\n",
        "sns.countplot(x = 'Death', hue = 'Sex', data = Framingham_training)"
      ],
      "execution_count": 5,
      "outputs": [
        {
          "output_type": "execute_result",
          "data": {
            "text/plain": [
              "<matplotlib.axes._subplots.AxesSubplot at 0x7fde375d0450>"
            ]
          },
          "metadata": {
            "tags": []
          },
          "execution_count": 5
        },
        {
          "output_type": "display_data",
          "data": {
            "image/png": "[encoded data removed]",
            "text/plain": [
              "<Figure size 432x288 with 1 Axes>"
            ]
          },
          "metadata": {
            "tags": [],
            "needs_background": "light"
          }
        }
      ]
    },
    {
      "cell_type": "code",
      "metadata": {
        "colab": {
          "base_uri": "https://localhost:8080/",
          "height": 296
        },
        "id": "qXJip92t8JEN",
        "outputId": "8c67e4e3-41f3-4e4f-f39d-c07b2545747f"
      },
      "source": [
        "# Barplot Death Overlay Educ\n",
        "sns.countplot(x = 'Death', hue = 'Educ', data = Framingham_training)"
      ],
      "execution_count": 6,
      "outputs": [
        {
          "output_type": "execute_result",
          "data": {
            "text/plain": [
              "<matplotlib.axes._subplots.AxesSubplot at 0x7fde3706a450>"
            ]
          },
          "metadata": {
            "tags": []
          },
          "execution_count": 6
        },
        {
          "output_type": "display_data",
          "data": {
            "image/png": "[encoded data removed]",
            "text/plain": [
              "<Figure size 432x288 with 1 Axes>"
            ]
          },
          "metadata": {
            "tags": [],
            "needs_background": "light"
          }
        }
      ]
    },
    {
      "cell_type": "markdown",
      "metadata": {
        "id": "rK2MwNHdRgI8"
      },
      "source": [
        "I used the .countplot() method in seaborn package to produce these plots. Setting hue equals the overlay variable and dodge=True (which is by default) allows to plot a side-by-side bar graph with comparing different attributes of the varible."
      ]
    },
    {
      "cell_type": "markdown",
      "metadata": {
        "id": "h6FkRmCHRnYk"
      },
      "source": [
        "**5. Compute the posterior probability of Death=0 (person is living) for a female with education level 2.  Compute the posterior probability of death =1 (person is dead) for a male with education level 1.**\n",
        "\n"
      ]
    },
    {
      "cell_type": "code",
      "metadata": {
        "id": "KK6POUfCR1_o",
        "colab": {
          "base_uri": "https://localhost:8080/"
        },
        "outputId": "0a28060e-3e29-4a24-a7d7-ade142867999"
      },
      "source": [
        "prob6 = prob5_1*(1-prob1)/(ct1[2]['All']/ct1['All']['All'])/(ct2[2]['All']/ct2['All']['All'])\n",
        "prob7 = prob4_1*prob1/(ct1[1]['All']/ct1['All']['All'])/(ct2[1]['All']/ct2['All']['All'])\n",
        "print(f'''The probabilities are {round(prob6*100, 2)}%, {round(prob7*100, 2)}% respecitively.''')"
      ],
      "execution_count": 7,
      "outputs": [
        {
          "output_type": "stream",
          "text": [
            "The probabilities are 81.84%, 47.7% respecitively.\n"
          ],
          "name": "stdout"
        }
      ]
    },
    {
      "cell_type": "markdown",
      "metadata": {
        "id": "WzRG2Tn6SOhl"
      },
      "source": [
        "P(living|female&Educ2) = P(female&Educ2|living)*P(living)/P(female&Educ2)\n",
        "\n",
        "P(dead|male&Educ1) = P(male&Educ1|dead)*P(dead)/P(male&Educ1)\n",
        "\n",
        "\n",
        "\n"
      ]
    },
    {
      "cell_type": "markdown",
      "metadata": {
        "id": "Q3lSLp4HSRam"
      },
      "source": [
        "**6. Run the Naive Bayes model on the data set.  Display the results in a contingency table.  Edit the rows and column names of the table to make the table more readable.  Include a total row and column.**"
      ]
    },
    {
      "cell_type": "code",
      "metadata": {
        "id": "7W9RmFzZSgJO",
        "colab": {
          "base_uri": "https://localhost:8080/"
        },
        "outputId": "fa5313a4-80e3-462e-ee6f-106f273b77ac"
      },
      "source": [
        "# Subset independent and dependent variables for training and test dataset\n",
        "X_train = Framingham_training[['Sex', 'Educ', 'Age']]\n",
        "y_train = Framingham_training[['Death']]\n",
        "X_test = Framingham_test[['Sex', 'Educ', 'Age']]\n",
        "y_test = Framingham_test[['Death']]\n",
        "\n",
        "# Fit Naive Bayes Model\n",
        "NB = GaussianNB()  \n",
        "nb_01 = NB.fit(X_train, y_train)\n",
        "\n",
        "# Predict and Display Accuracy\n",
        "y_predict = nb_01.predict(X_test)  \n",
        "print(\"Test accuracy (Naive Bayes) =\", nb_01.score(X_test,y_test))"
      ],
      "execution_count": 8,
      "outputs": [
        {
          "output_type": "stream",
          "text": [
            "Test accuracy (Naive Bayes) = 0.7372618520159504\n"
          ],
          "name": "stdout"
        },
        {
          "output_type": "stream",
          "text": [
            "/usr/local/lib/python3.7/dist-packages/sklearn/naive_bayes.py:206: DataConversionWarning: A column-vector y was passed when a 1d array was expected. Please change the shape of y to (n_samples, ), for example using ravel().\n",
            "  y = column_or_1d(y, warn=True)\n"
          ],
          "name": "stderr"
        }
      ]
    },
    {
      "cell_type": "code",
      "metadata": {
        "colab": {
          "base_uri": "https://localhost:8080/"
        },
        "id": "Txflu4rnIvgk",
        "outputId": "2a7ce236-660b-4208-ba8d-9ac36e8a30db"
      },
      "source": [
        "# Fit Dummy Classifier Model As A Baseline Model\n",
        "dummy = DummyClassifier(strategy=  \"prior\")\n",
        "dumb = dummy.fit(X_train,y_train)\n",
        "\n",
        "# Predict and Display Baseline Accuracy\n",
        "dumb_pred = dumb.predict(X_test)\n",
        "dumb_pred_prob = dumb.predict_proba(X_test)\n",
        "print(\"Test accuracy (Dummy Classifier) =\", dumb.score(dumb_pred,y_test))"
      ],
      "execution_count": 9,
      "outputs": [
        {
          "output_type": "stream",
          "text": [
            "Test accuracy (Dummy Classifier) = 0.7075764288879043\n"
          ],
          "name": "stdout"
        }
      ]
    },
    {
      "cell_type": "code",
      "metadata": {
        "colab": {
          "base_uri": "https://localhost:8080/",
          "height": 468
        },
        "id": "jiSRmrdOCJDw",
        "outputId": "b387cae2-f917-4934-d41e-6e9a678915b2"
      },
      "source": [
        "# Generate Confusion Matrix For NB Model\n",
        "cm_nb = confusion_matrix(y_test, y_predict)\n",
        "cm_nb_df = pd.DataFrame(cm_nb)\n",
        "\n",
        "# Plot CM\n",
        "fig, ax = plt.subplots(figsize = (7,7))\n",
        "sns.heatmap(pd.DataFrame(cm_nb_df.T), annot=True, annot_kws={\"size\": 15}, cmap=\"Purples\", vmin=0, vmax=500, fmt='.0f', linewidths=1, linecolor=\"white\", cbar=False)\n",
        "plt.ylabel(\"Predicted\", fontsize=15)\n",
        "plt.xlabel(\"Actual\", fontsize=15)\n",
        "ax.set_xticklabels(['Living', 'Dead'], fontsize=13)\n",
        "ax.set_yticklabels(['Living', 'Dead'], fontsize=13)\n",
        "plt.title(\"Confusion Matrix for Naive Bayes Classifier - Counts\", fontsize=15)\n",
        "plt.show()"
      ],
      "execution_count": 10,
      "outputs": [
        {
          "output_type": "display_data",
          "data": {
            "image/png": "[encoded data removed]",
            "text/plain": [
              "<Figure size 504x504 with 1 Axes>"
            ]
          },
          "metadata": {
            "tags": [],
            "needs_background": "light"
          }
        }
      ]
    },
    {
      "cell_type": "code",
      "metadata": {
        "colab": {
          "base_uri": "https://localhost:8080/",
          "height": 468
        },
        "id": "KrfdkDa_Knkr",
        "outputId": "301e6862-ab11-4fd0-eb4b-399f4bcc8ae0"
      },
      "source": [
        "# Generate Confusion Matrix For Dummy Classifier\n",
        "cm_dummy = confusion_matrix(y_test, dumb_pred)\n",
        "cm_dummy_df = pd.DataFrame(cm_dummy)\n",
        "\n",
        "# Plot CM\n",
        "fig, ax = plt.subplots(figsize = (7,7))\n",
        "sns.heatmap(cm_dummy_df.T, annot=True, annot_kws={\"size\": 15}, cmap=\"Oranges\", vmin=0, vmax=800, fmt='.0f', linewidths=1, linecolor=\"white\", cbar=False)\n",
        "plt.ylabel(\"Predicted\", fontsize=15)\n",
        "plt.xlabel(\"Actual\", fontsize=15)\n",
        "ax.set_xticklabels(['Living', 'Dead'], fontsize=13)\n",
        "ax.set_yticklabels(['Living', 'Dead'], fontsize=13)\n",
        "plt.title(\"Confusion Matrix for 'Dummy' Classifier - Counts\", fontsize=15)\n",
        "plt.show()"
      ],
      "execution_count": 11,
      "outputs": [
        {
          "output_type": "display_data",
          "data": {
            "image/png": "[encoded data removed]",
            "text/plain": [
              "<Figure size 504x504 with 1 Axes>"
            ]
          },
          "metadata": {
            "tags": [],
            "needs_background": "light"
          }
        }
      ]
    },
    {
      "cell_type": "markdown",
      "metadata": {
        "id": "Gp3hdZ8uSggu"
      },
      "source": [
        "By comparing the accuracy of Naive Bayes model and dummy classifier, the performance of the NB model did not improved very much from the baseline. Since the dataset is unbalanced with 70% of records in the living category, the dummy classifier which predicts all records as living has a high performance."
      ]
    },
    {
      "cell_type": "markdown",
      "metadata": {
        "id": "1zO6VWw3SkT_"
      },
      "source": [
        "**Please use the following dataset for problems 7 - 9**"
      ]
    },
    {
      "cell_type": "code",
      "metadata": {
        "id": "Fv1-SSWnS3He",
        "colab": {
          "base_uri": "https://localhost:8080/",
          "height": 456
        },
        "outputId": "3315710d-628c-4aee-fcf0-d97711f5d343"
      },
      "source": [
        "url_cereals='https://raw.githubusercontent.com/kamranbakhtiari/DESC624/main/cereals.CSV'\n",
        "cereals=pd.read_csv(url_cereals)\n",
        "\n",
        "cereals\n",
        "\n",
        "### Dataset to be provided by 5/18 11:55pm"
      ],
      "execution_count": 12,
      "outputs": [
        {
          "output_type": "execute_result",
          "data": {
            "text/html": [
              "<div>\n",
              "<style scoped>\n",
              "    .dataframe tbody tr th:only-of-type {\n",
              "        vertical-align: middle;\n",
              "    }\n",
              "\n",
              "    .dataframe tbody tr th {\n",
              "        vertical-align: top;\n",
              "    }\n",
              "\n",
              "    .dataframe thead th {\n",
              "        text-align: right;\n",
              "    }\n",
              "</style>\n",
              "<table border=\"1\" class=\"dataframe\">\n",
              "  <thead>\n",
              "    <tr style=\"text-align: right;\">\n",
              "      <th></th>\n",
              "      <th>Name</th>\n",
              "      <th>Manuf</th>\n",
              "      <th>Type</th>\n",
              "      <th>Calories</th>\n",
              "      <th>Protein</th>\n",
              "      <th>Fat</th>\n",
              "      <th>Sodium</th>\n",
              "      <th>Fiber</th>\n",
              "      <th>Carbo</th>\n",
              "      <th>Sugars</th>\n",
              "      <th>Potass</th>\n",
              "      <th>Vitamins</th>\n",
              "      <th>Shelf</th>\n",
              "      <th>Weight</th>\n",
              "      <th>Cups</th>\n",
              "      <th>Rating</th>\n",
              "      <th>Cold</th>\n",
              "      <th>Nabisco</th>\n",
              "      <th>Quaker</th>\n",
              "      <th>Kelloggs</th>\n",
              "      <th>GeneralMills</th>\n",
              "      <th>Ralston</th>\n",
              "      <th>AHFP</th>\n",
              "    </tr>\n",
              "  </thead>\n",
              "  <tbody>\n",
              "    <tr>\n",
              "      <th>0</th>\n",
              "      <td>100%_Bran</td>\n",
              "      <td>N</td>\n",
              "      <td>C</td>\n",
              "      <td>70</td>\n",
              "      <td>4</td>\n",
              "      <td>1</td>\n",
              "      <td>130</td>\n",
              "      <td>10.0</td>\n",
              "      <td>5.0</td>\n",
              "      <td>6.0</td>\n",
              "      <td>280.0</td>\n",
              "      <td>25</td>\n",
              "      <td>3</td>\n",
              "      <td>1.0</td>\n",
              "      <td>0.33</td>\n",
              "      <td>68.402973</td>\n",
              "      <td>1</td>\n",
              "      <td>1</td>\n",
              "      <td>0</td>\n",
              "      <td>0</td>\n",
              "      <td>0</td>\n",
              "      <td>0</td>\n",
              "      <td>0</td>\n",
              "    </tr>\n",
              "    <tr>\n",
              "      <th>1</th>\n",
              "      <td>100%_Natural_Bran</td>\n",
              "      <td>Q</td>\n",
              "      <td>C</td>\n",
              "      <td>120</td>\n",
              "      <td>3</td>\n",
              "      <td>5</td>\n",
              "      <td>15</td>\n",
              "      <td>2.0</td>\n",
              "      <td>8.0</td>\n",
              "      <td>8.0</td>\n",
              "      <td>135.0</td>\n",
              "      <td>0</td>\n",
              "      <td>3</td>\n",
              "      <td>1.0</td>\n",
              "      <td>1.00</td>\n",
              "      <td>33.983679</td>\n",
              "      <td>1</td>\n",
              "      <td>0</td>\n",
              "      <td>1</td>\n",
              "      <td>0</td>\n",
              "      <td>0</td>\n",
              "      <td>0</td>\n",
              "      <td>0</td>\n",
              "    </tr>\n",
              "    <tr>\n",
              "      <th>2</th>\n",
              "      <td>All-Bran</td>\n",
              "      <td>K</td>\n",
              "      <td>C</td>\n",
              "      <td>70</td>\n",
              "      <td>4</td>\n",
              "      <td>1</td>\n",
              "      <td>260</td>\n",
              "      <td>9.0</td>\n",
              "      <td>7.0</td>\n",
              "      <td>5.0</td>\n",
              "      <td>320.0</td>\n",
              "      <td>25</td>\n",
              "      <td>3</td>\n",
              "      <td>1.0</td>\n",
              "      <td>0.33</td>\n",
              "      <td>59.425505</td>\n",
              "      <td>1</td>\n",
              "      <td>0</td>\n",
              "      <td>0</td>\n",
              "      <td>1</td>\n",
              "      <td>0</td>\n",
              "      <td>0</td>\n",
              "      <td>0</td>\n",
              "    </tr>\n",
              "    <tr>\n",
              "      <th>3</th>\n",
              "      <td>All-Bran_with_Extra_Fiber</td>\n",
              "      <td>K</td>\n",
              "      <td>C</td>\n",
              "      <td>50</td>\n",
              "      <td>4</td>\n",
              "      <td>0</td>\n",
              "      <td>140</td>\n",
              "      <td>14.0</td>\n",
              "      <td>8.0</td>\n",
              "      <td>0.0</td>\n",
              "      <td>330.0</td>\n",
              "      <td>25</td>\n",
              "      <td>3</td>\n",
              "      <td>1.0</td>\n",
              "      <td>0.50</td>\n",
              "      <td>93.704912</td>\n",
              "      <td>1</td>\n",
              "      <td>0</td>\n",
              "      <td>0</td>\n",
              "      <td>1</td>\n",
              "      <td>0</td>\n",
              "      <td>0</td>\n",
              "      <td>0</td>\n",
              "    </tr>\n",
              "    <tr>\n",
              "      <th>4</th>\n",
              "      <td>Almond_Delight</td>\n",
              "      <td>R</td>\n",
              "      <td>C</td>\n",
              "      <td>110</td>\n",
              "      <td>2</td>\n",
              "      <td>2</td>\n",
              "      <td>200</td>\n",
              "      <td>1.0</td>\n",
              "      <td>14.0</td>\n",
              "      <td>8.0</td>\n",
              "      <td>NaN</td>\n",
              "      <td>25</td>\n",
              "      <td>3</td>\n",
              "      <td>1.0</td>\n",
              "      <td>0.75</td>\n",
              "      <td>34.384843</td>\n",
              "      <td>1</td>\n",
              "      <td>0</td>\n",
              "      <td>0</td>\n",
              "      <td>0</td>\n",
              "      <td>0</td>\n",
              "      <td>1</td>\n",
              "      <td>0</td>\n",
              "    </tr>\n",
              "    <tr>\n",
              "      <th>...</th>\n",
              "      <td>...</td>\n",
              "      <td>...</td>\n",
              "      <td>...</td>\n",
              "      <td>...</td>\n",
              "      <td>...</td>\n",
              "      <td>...</td>\n",
              "      <td>...</td>\n",
              "      <td>...</td>\n",
              "      <td>...</td>\n",
              "      <td>...</td>\n",
              "      <td>...</td>\n",
              "      <td>...</td>\n",
              "      <td>...</td>\n",
              "      <td>...</td>\n",
              "      <td>...</td>\n",
              "      <td>...</td>\n",
              "      <td>...</td>\n",
              "      <td>...</td>\n",
              "      <td>...</td>\n",
              "      <td>...</td>\n",
              "      <td>...</td>\n",
              "      <td>...</td>\n",
              "      <td>...</td>\n",
              "    </tr>\n",
              "    <tr>\n",
              "      <th>72</th>\n",
              "      <td>Triples</td>\n",
              "      <td>G</td>\n",
              "      <td>C</td>\n",
              "      <td>110</td>\n",
              "      <td>2</td>\n",
              "      <td>1</td>\n",
              "      <td>250</td>\n",
              "      <td>0.0</td>\n",
              "      <td>21.0</td>\n",
              "      <td>3.0</td>\n",
              "      <td>60.0</td>\n",
              "      <td>25</td>\n",
              "      <td>3</td>\n",
              "      <td>1.0</td>\n",
              "      <td>0.75</td>\n",
              "      <td>39.106174</td>\n",
              "      <td>1</td>\n",
              "      <td>0</td>\n",
              "      <td>0</td>\n",
              "      <td>0</td>\n",
              "      <td>1</td>\n",
              "      <td>0</td>\n",
              "      <td>0</td>\n",
              "    </tr>\n",
              "    <tr>\n",
              "      <th>73</th>\n",
              "      <td>Trix</td>\n",
              "      <td>G</td>\n",
              "      <td>C</td>\n",
              "      <td>110</td>\n",
              "      <td>1</td>\n",
              "      <td>1</td>\n",
              "      <td>140</td>\n",
              "      <td>0.0</td>\n",
              "      <td>13.0</td>\n",
              "      <td>12.0</td>\n",
              "      <td>25.0</td>\n",
              "      <td>25</td>\n",
              "      <td>2</td>\n",
              "      <td>1.0</td>\n",
              "      <td>1.00</td>\n",
              "      <td>27.753301</td>\n",
              "      <td>1</td>\n",
              "      <td>0</td>\n",
              "      <td>0</td>\n",
              "      <td>0</td>\n",
              "      <td>1</td>\n",
              "      <td>0</td>\n",
              "      <td>0</td>\n",
              "    </tr>\n",
              "    <tr>\n",
              "      <th>74</th>\n",
              "      <td>Wheat_Chex</td>\n",
              "      <td>R</td>\n",
              "      <td>C</td>\n",
              "      <td>100</td>\n",
              "      <td>3</td>\n",
              "      <td>1</td>\n",
              "      <td>230</td>\n",
              "      <td>3.0</td>\n",
              "      <td>17.0</td>\n",
              "      <td>3.0</td>\n",
              "      <td>115.0</td>\n",
              "      <td>25</td>\n",
              "      <td>1</td>\n",
              "      <td>1.0</td>\n",
              "      <td>0.67</td>\n",
              "      <td>49.787445</td>\n",
              "      <td>1</td>\n",
              "      <td>0</td>\n",
              "      <td>0</td>\n",
              "      <td>0</td>\n",
              "      <td>0</td>\n",
              "      <td>1</td>\n",
              "      <td>0</td>\n",
              "    </tr>\n",
              "    <tr>\n",
              "      <th>75</th>\n",
              "      <td>Wheaties</td>\n",
              "      <td>G</td>\n",
              "      <td>C</td>\n",
              "      <td>100</td>\n",
              "      <td>3</td>\n",
              "      <td>1</td>\n",
              "      <td>200</td>\n",
              "      <td>3.0</td>\n",
              "      <td>17.0</td>\n",
              "      <td>3.0</td>\n",
              "      <td>110.0</td>\n",
              "      <td>25</td>\n",
              "      <td>1</td>\n",
              "      <td>1.0</td>\n",
              "      <td>1.00</td>\n",
              "      <td>51.592193</td>\n",
              "      <td>1</td>\n",
              "      <td>0</td>\n",
              "      <td>0</td>\n",
              "      <td>0</td>\n",
              "      <td>1</td>\n",
              "      <td>0</td>\n",
              "      <td>0</td>\n",
              "    </tr>\n",
              "    <tr>\n",
              "      <th>76</th>\n",
              "      <td>Wheaties_Honey_Gold</td>\n",
              "      <td>G</td>\n",
              "      <td>C</td>\n",
              "      <td>110</td>\n",
              "      <td>2</td>\n",
              "      <td>1</td>\n",
              "      <td>200</td>\n",
              "      <td>1.0</td>\n",
              "      <td>16.0</td>\n",
              "      <td>8.0</td>\n",
              "      <td>60.0</td>\n",
              "      <td>25</td>\n",
              "      <td>1</td>\n",
              "      <td>1.0</td>\n",
              "      <td>0.75</td>\n",
              "      <td>36.187559</td>\n",
              "      <td>1</td>\n",
              "      <td>0</td>\n",
              "      <td>0</td>\n",
              "      <td>0</td>\n",
              "      <td>1</td>\n",
              "      <td>0</td>\n",
              "      <td>0</td>\n",
              "    </tr>\n",
              "  </tbody>\n",
              "</table>\n",
              "<p>77 rows × 23 columns</p>\n",
              "</div>"
            ],
            "text/plain": [
              "                          Name Manuf Type  ...  GeneralMills  Ralston  AHFP\n",
              "0                   100%_Bran     N    C   ...             0        0     0\n",
              "1           100%_Natural_Bran     Q    C   ...             0        0     0\n",
              "2                    All-Bran     K    C   ...             0        0     0\n",
              "3   All-Bran_with_Extra_Fiber     K    C   ...             0        0     0\n",
              "4              Almond_Delight     R    C   ...             0        1     0\n",
              "..                         ...   ...  ...  ...           ...      ...   ...\n",
              "72                    Triples     G    C   ...             1        0     0\n",
              "73                       Trix     G    C   ...             1        0     0\n",
              "74                 Wheat_Chex     R    C   ...             0        1     0\n",
              "75                   Wheaties     G    C   ...             1        0     0\n",
              "76        Wheaties_Honey_Gold     G    C   ...             1        0     0\n",
              "\n",
              "[77 rows x 23 columns]"
            ]
          },
          "metadata": {
            "tags": []
          },
          "execution_count": 12
        }
      ]
    },
    {
      "cell_type": "markdown",
      "metadata": {
        "id": "OAPRjRlTS2sm"
      },
      "source": [
        "**7. Subset the Fat and Sodium variables into their own data frame, X.  Standardize the data set**\n"
      ]
    },
    {
      "cell_type": "code",
      "metadata": {
        "id": "8L_g08A5TT72"
      },
      "source": [
        "# Subset X Dataframe\n",
        "X = cereals[['Fat', 'Sodium']]\n",
        "\n",
        "# Standardize The Dataset\n",
        "Xz = pd.DataFrame()\n",
        "Xz['Fat'] = stats.zscore(X['Fat'])\n",
        "Xz['Sodium'] = stats.zscore(X['Sodium'])"
      ],
      "execution_count": 13,
      "outputs": []
    },
    {
      "cell_type": "markdown",
      "metadata": {
        "id": "w40I4c6qTVQA"
      },
      "source": [
        "After subsetting the Fat and Sodium variables, I used the .zscore() method in the scipy package to standardize the variables."
      ]
    },
    {
      "cell_type": "markdown",
      "metadata": {
        "id": "lh92b33bTX7n"
      },
      "source": [
        "**8. Run k-means clustering on the data set, usng three clusters**"
      ]
    },
    {
      "cell_type": "code",
      "metadata": {
        "id": "EPnmtawiTp7j"
      },
      "source": [
        "kmeans01=KMeans(n_clusters=3).fit(Xz)\n",
        "\n",
        "# Save the cluster membership\n",
        "cluster=kmeans01.labels_\n",
        "\n",
        "# Separate the records\n",
        "Cluster1=Xz.loc[cluster == 0]\n",
        "Cluster2=Xz.loc[cluster == 1]\n",
        "Cluster3=Xz.loc[cluster == 2]"
      ],
      "execution_count": 14,
      "outputs": []
    },
    {
      "cell_type": "markdown",
      "metadata": {
        "id": "RN7SYAbZTq_p"
      },
      "source": [
        "I used KMeans in the Skleran package to fit the K-means clustering model, and .labels_ function to get the labels of each cluster."
      ]
    },
    {
      "cell_type": "markdown",
      "metadata": {
        "id": "uHjxqPDhuq36"
      },
      "source": [
        "**9. Obtain the summary of each variable witin each cluster and use the summaries to identify:**\n",
        "\n",
        "\n",
        "\n",
        "1.   A low fat, low sodium cluster\n",
        "2.   A low fat, high sodium cluster\n",
        "3.   A high fat, high sodium cluster  \n",
        "\n"
      ]
    },
    {
      "cell_type": "code",
      "metadata": {
        "colab": {
          "base_uri": "https://localhost:8080/",
          "height": 297
        },
        "id": "Ioux6CiiWx1m",
        "outputId": "33ab10e0-da12-4c29-8d45-778a1904bd54"
      },
      "source": [
        "Cluster1.describe()"
      ],
      "execution_count": 15,
      "outputs": [
        {
          "output_type": "execute_result",
          "data": {
            "text/html": [
              "<div>\n",
              "<style scoped>\n",
              "    .dataframe tbody tr th:only-of-type {\n",
              "        vertical-align: middle;\n",
              "    }\n",
              "\n",
              "    .dataframe tbody tr th {\n",
              "        vertical-align: top;\n",
              "    }\n",
              "\n",
              "    .dataframe thead th {\n",
              "        text-align: right;\n",
              "    }\n",
              "</style>\n",
              "<table border=\"1\" class=\"dataframe\">\n",
              "  <thead>\n",
              "    <tr style=\"text-align: right;\">\n",
              "      <th></th>\n",
              "      <th>Fat</th>\n",
              "      <th>Sodium</th>\n",
              "    </tr>\n",
              "  </thead>\n",
              "  <tbody>\n",
              "    <tr>\n",
              "      <th>count</th>\n",
              "      <td>14.000000</td>\n",
              "      <td>14.000000</td>\n",
              "    </tr>\n",
              "    <tr>\n",
              "      <th>mean</th>\n",
              "      <td>-0.727334</td>\n",
              "      <td>-1.659901</td>\n",
              "    </tr>\n",
              "    <tr>\n",
              "      <th>std</th>\n",
              "      <td>0.611301</td>\n",
              "      <td>0.410850</td>\n",
              "    </tr>\n",
              "    <tr>\n",
              "      <th>min</th>\n",
              "      <td>-1.013072</td>\n",
              "      <td>-1.917189</td>\n",
              "    </tr>\n",
              "    <tr>\n",
              "      <th>25%</th>\n",
              "      <td>-1.013072</td>\n",
              "      <td>-1.917189</td>\n",
              "    </tr>\n",
              "    <tr>\n",
              "      <th>50%</th>\n",
              "      <td>-1.013072</td>\n",
              "      <td>-1.917189</td>\n",
              "    </tr>\n",
              "    <tr>\n",
              "      <th>75%</th>\n",
              "      <td>-1.013072</td>\n",
              "      <td>-1.466934</td>\n",
              "    </tr>\n",
              "    <tr>\n",
              "      <th>max</th>\n",
              "      <td>0.987096</td>\n",
              "      <td>-0.836578</td>\n",
              "    </tr>\n",
              "  </tbody>\n",
              "</table>\n",
              "</div>"
            ],
            "text/plain": [
              "             Fat     Sodium\n",
              "count  14.000000  14.000000\n",
              "mean   -0.727334  -1.659901\n",
              "std     0.611301   0.410850\n",
              "min    -1.013072  -1.917189\n",
              "25%    -1.013072  -1.917189\n",
              "50%    -1.013072  -1.917189\n",
              "75%    -1.013072  -1.466934\n",
              "max     0.987096  -0.836578"
            ]
          },
          "metadata": {
            "tags": []
          },
          "execution_count": 15
        }
      ]
    },
    {
      "cell_type": "code",
      "metadata": {
        "colab": {
          "base_uri": "https://localhost:8080/",
          "height": 297
        },
        "id": "o_0560lDXstC",
        "outputId": "7023aeac-b9d0-499a-e55a-9ae1e0237bcb"
      },
      "source": [
        "Cluster2.describe()"
      ],
      "execution_count": 16,
      "outputs": [
        {
          "output_type": "execute_result",
          "data": {
            "text/html": [
              "<div>\n",
              "<style scoped>\n",
              "    .dataframe tbody tr th:only-of-type {\n",
              "        vertical-align: middle;\n",
              "    }\n",
              "\n",
              "    .dataframe tbody tr th {\n",
              "        vertical-align: top;\n",
              "    }\n",
              "\n",
              "    .dataframe thead th {\n",
              "        text-align: right;\n",
              "    }\n",
              "</style>\n",
              "<table border=\"1\" class=\"dataframe\">\n",
              "  <thead>\n",
              "    <tr style=\"text-align: right;\">\n",
              "      <th></th>\n",
              "      <th>Fat</th>\n",
              "      <th>Sodium</th>\n",
              "    </tr>\n",
              "  </thead>\n",
              "  <tbody>\n",
              "    <tr>\n",
              "      <th>count</th>\n",
              "      <td>19.000000</td>\n",
              "      <td>19.000000</td>\n",
              "    </tr>\n",
              "    <tr>\n",
              "      <th>mean</th>\n",
              "      <td>1.408184</td>\n",
              "      <td>0.063932</td>\n",
              "    </tr>\n",
              "    <tr>\n",
              "      <th>std</th>\n",
              "      <td>0.768598</td>\n",
              "      <td>0.739608</td>\n",
              "    </tr>\n",
              "    <tr>\n",
              "      <th>min</th>\n",
              "      <td>0.987096</td>\n",
              "      <td>-1.737087</td>\n",
              "    </tr>\n",
              "    <tr>\n",
              "      <th>25%</th>\n",
              "      <td>0.987096</td>\n",
              "      <td>-0.236238</td>\n",
              "    </tr>\n",
              "    <tr>\n",
              "      <th>50%</th>\n",
              "      <td>0.987096</td>\n",
              "      <td>0.003898</td>\n",
              "    </tr>\n",
              "    <tr>\n",
              "      <th>75%</th>\n",
              "      <td>1.987181</td>\n",
              "      <td>0.604238</td>\n",
              "    </tr>\n",
              "    <tr>\n",
              "      <th>max</th>\n",
              "      <td>3.987349</td>\n",
              "      <td>1.564782</td>\n",
              "    </tr>\n",
              "  </tbody>\n",
              "</table>\n",
              "</div>"
            ],
            "text/plain": [
              "             Fat     Sodium\n",
              "count  19.000000  19.000000\n",
              "mean    1.408184   0.063932\n",
              "std     0.768598   0.739608\n",
              "min     0.987096  -1.737087\n",
              "25%     0.987096  -0.236238\n",
              "50%     0.987096   0.003898\n",
              "75%     1.987181   0.604238\n",
              "max     3.987349   1.564782"
            ]
          },
          "metadata": {
            "tags": []
          },
          "execution_count": 16
        }
      ]
    },
    {
      "cell_type": "code",
      "metadata": {
        "colab": {
          "base_uri": "https://localhost:8080/",
          "height": 297
        },
        "id": "X5xYJeMfXsjR",
        "outputId": "f59cd123-3ab2-461f-a3cb-d50a93117f99"
      },
      "source": [
        "Cluster3.describe()"
      ],
      "execution_count": 17,
      "outputs": [
        {
          "output_type": "execute_result",
          "data": {
            "text/html": [
              "<div>\n",
              "<style scoped>\n",
              "    .dataframe tbody tr th:only-of-type {\n",
              "        vertical-align: middle;\n",
              "    }\n",
              "\n",
              "    .dataframe tbody tr th {\n",
              "        vertical-align: top;\n",
              "    }\n",
              "\n",
              "    .dataframe thead th {\n",
              "        text-align: right;\n",
              "    }\n",
              "</style>\n",
              "<table border=\"1\" class=\"dataframe\">\n",
              "  <thead>\n",
              "    <tr style=\"text-align: right;\">\n",
              "      <th></th>\n",
              "      <th>Fat</th>\n",
              "      <th>Sodium</th>\n",
              "    </tr>\n",
              "  </thead>\n",
              "  <tbody>\n",
              "    <tr>\n",
              "      <th>count</th>\n",
              "      <td>44.000000</td>\n",
              "      <td>44.000000</td>\n",
              "    </tr>\n",
              "    <tr>\n",
              "      <th>mean</th>\n",
              "      <td>-0.376655</td>\n",
              "      <td>0.500543</td>\n",
              "    </tr>\n",
              "    <tr>\n",
              "      <th>std</th>\n",
              "      <td>0.486648</td>\n",
              "      <td>0.596188</td>\n",
              "    </tr>\n",
              "    <tr>\n",
              "      <th>min</th>\n",
              "      <td>-1.013072</td>\n",
              "      <td>-0.416340</td>\n",
              "    </tr>\n",
              "    <tr>\n",
              "      <th>25%</th>\n",
              "      <td>-1.013072</td>\n",
              "      <td>0.123966</td>\n",
              "    </tr>\n",
              "    <tr>\n",
              "      <th>50%</th>\n",
              "      <td>-0.012988</td>\n",
              "      <td>0.484170</td>\n",
              "    </tr>\n",
              "    <tr>\n",
              "      <th>75%</th>\n",
              "      <td>-0.012988</td>\n",
              "      <td>0.874391</td>\n",
              "    </tr>\n",
              "    <tr>\n",
              "      <th>max</th>\n",
              "      <td>-0.012988</td>\n",
              "      <td>1.924986</td>\n",
              "    </tr>\n",
              "  </tbody>\n",
              "</table>\n",
              "</div>"
            ],
            "text/plain": [
              "             Fat     Sodium\n",
              "count  44.000000  44.000000\n",
              "mean   -0.376655   0.500543\n",
              "std     0.486648   0.596188\n",
              "min    -1.013072  -0.416340\n",
              "25%    -1.013072   0.123966\n",
              "50%    -0.012988   0.484170\n",
              "75%    -0.012988   0.874391\n",
              "max    -0.012988   1.924986"
            ]
          },
          "metadata": {
            "tags": []
          },
          "execution_count": 17
        }
      ]
    },
    {
      "cell_type": "markdown",
      "metadata": {
        "id": "mLeQzLuKdRzc"
      },
      "source": [
        "By looking at the mean values of each cluster groups, we are able to determine whether it is a low or high category in each variable. Since we trained the model with standardized z values, if it's positive, it means the average of the cluster is higher than that of all the records, and it's in the high category. On the other hand, if it's negative, it means the average of the cluster is lower than that of all the records, and it's in the low category.\n",
        "\n",
        "Therefore, low fat low sodium is cluster 2, low fat high sodium is cluster 3, and high fat high sodium is cluster 1."
      ]
    }
  ]
}