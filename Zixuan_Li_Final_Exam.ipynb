{
  "nbformat": 4,
  "nbformat_minor": 0,
  "metadata": {
    "colab": {
      "name": "Zixuan_Li_Final_Exam.ipynb",
      "provenance": []
    },
    "kernelspec": {
      "name": "python3",
      "display_name": "Python 3"
    }
  },
  "cells": [
    {
      "cell_type": "markdown",
      "metadata": {
        "id": "BbD3CO0-Cbd3"
      },
      "source": [
        "With what information does Bayes Theorem update our previous knowledge about the data parameters?"
      ]
    },
    {
      "cell_type": "markdown",
      "metadata": {
        "id": "eUQWVePRkbBL"
      },
      "source": [
        "**Answer:** \n",
        "\n",
        "1. By combining our previous knowledge (called the prior distribution),\n",
        "2. With new information obtained from observed data,\n",
        "3. Resulting in updated parameter knowledge (called the posterior distribution)."
      ]
    },
    {
      "cell_type": "markdown",
      "metadata": {
        "id": "w5RvhnyGCgDL"
      },
      "source": [
        "What does the prior probability represent?"
      ]
    },
    {
      "cell_type": "markdown",
      "metadata": {
        "id": "IjDp7_bakhsT"
      },
      "source": [
        "**Answer:** Prior probability represents the probability distribution that would express one's beliefs about this quantity before some evidence is taken into account."
      ]
    },
    {
      "cell_type": "markdown",
      "metadata": {
        "id": "9qwk8q9oDBTV"
      },
      "source": [
        "For the following exercises, work with the wine_flag_training and wine_flag_test data sets. Use either Python to solve each problem.\n",
        "Here are the links to the datasets:\n",
        "\n",
        "https://raw.githubusercontent.com/ArashVafa/DESC624/master/wine_flag_training.csv\n",
        "\n",
        "https://raw.githubusercontent.com/ArashVafa/DESC624/master/wine_flag_test.csv\n",
        "\n",
        "\n",
        "Create two contingency tables, one with Type and Alcohol_flag and another with Type and Sugar_flag.\n",
        "Use the tables in the previous exercise to calculate:\n",
        "* The prior probability of Type = Red and Type = White.\n",
        "* The probability of high and low alcohol content.\n",
        "* The probability of high and low sugar content.\n",
        "* The conditional probabilities p(Alcohol_flag = High ∣ Type = Red) and p(Alcohol_flag = Low ∣ Type = Red).\n",
        "* The conditional probabilities p(Alcohol_flag = High ∣ Type = White) and p(Alcohol_flag = Low ∣ Type = White).\n",
        "* The conditional probabilities p(Sugar_flag = High ∣ Type = Red) and p(Sugar_flag = Low ∣ Type = Red).\n",
        "* The conditional probabilities p(Sugar_flag = High ∣ Type = White) and p(Sugar_flag = Low ∣ Type = White).\n",
        "\n",
        "Use the probabilities in the previous exercise to discuss\n",
        "* How likely it is that a randomly selected wine is red.\n",
        "* How likely it is that a randomly selected wine has a high alcohol content.\n",
        "* How likely it is that a randomly selected wine has a low sugar content.\n",
        "\n",
        "\n",
        "Use the conditional probabilities found earlier to discuss\n",
        "* What a typical white wine might have as its alcohol and sugar content.\n",
        "* What a typical red wine might have as its alcohol and sugar content.\n",
        "\n",
        "Create side‐by‐side bar graphs for Type, one with an overlay of Alcohol_flag and the other with an overlay of Sugar_flag. Compare the graphs to the conditional probabilities you calculated.\n",
        "\n",
        "Compute the posterior probability of Type = Red for a wine that is low in alcohol content and high in sugar content. Compute the posterior probability of Type = White for the same wine.\n",
        "\n",
        "Use your answers to the previous exercise to determine which type, red or white, is more probable for a wine with low alcohol and high sugar content. What would the Naïve Bayes classifier classify this wine as?\n",
        "\n",
        "Compute the posterior probability of Type = Red for a wine that is high in alcohol content and low in sugar content. Compute the posterior probability of Type = White for the same wine.\n",
        "\n",
        "Use your answers to the previous exercise to determine which type, red or white, is more probable for a wine with high alcohol and low sugar content. What would the Naïve Bayes classifier classify this wine as?\n",
        "\n",
        "Run the Naïve Bayes classifier to classify wines as white or red based on alcohol and sugar content.\n",
        "\n",
        "Evaluate the Naïve Bayes model on the wines_test data set. Display the results in a contingency table. Edit the row and column names of the table to make the table more readable. Include a total row and column.\n",
        "\n",
        "According to your table in the previous exercise, find the following values for the Naïve Bayes model:\n",
        "* Accuracy\n",
        "* Error rate\n",
        "\n",
        "According to your contingency table, find the following values for the Naïve Bayes model:\n",
        "* How often it correctly classifies red wines.\n",
        "* How often it correctly classifies white wines."
      ]
    },
    {
      "cell_type": "markdown",
      "metadata": {
        "id": "16Gz1tG4tM0Q"
      },
      "source": [
        "For the following exercises, work with the wine_flag_training and wine_flag_test data sets. Use either Python to solve each problem.\n",
        "Here are the links to the datasets:\n",
        "\n",
        "https://raw.githubusercontent.com/ArashVafa/DESC624/master/wine_flag_training.csv\n",
        "\n",
        "https://raw.githubusercontent.com/ArashVafa/DESC624/master/wine_flag_test.csv\n"
      ]
    },
    {
      "cell_type": "code",
      "metadata": {
        "id": "Bs_kS0hUkrxf"
      },
      "source": [
        "# Import packages\n",
        "import pandas as pd\n",
        "import numpy as np\n",
        "import matplotlib.pyplot as plt\n",
        "\n",
        "from sklearn.naive_bayes import GaussianNB \n",
        "from sklearn.model_selection import train_test_split\n",
        "from sklearn.linear_model import LogisticRegression\n",
        "from sklearn.neural_network import MLPClassifier\n",
        "from sklearn.tree import DecisionTreeClassifier\n",
        "from sklearn.datasets import load_breast_cancer\n"
      ],
      "execution_count": 1,
      "outputs": []
    },
    {
      "cell_type": "code",
      "metadata": {
        "id": "GCq2RltekmNW"
      },
      "source": [
        "# load training dataset\n",
        "wine_train = pd.read_csv('https://raw.githubusercontent.com/ArashVafa/DESC624/master/wine_flag_training.csv')\n",
        "# load test dataset\n",
        "wine_test = pd.read_csv('https://raw.githubusercontent.com/ArashVafa/DESC624/master/wine_flag_test.csv')"
      ],
      "execution_count": 2,
      "outputs": []
    },
    {
      "cell_type": "markdown",
      "metadata": {
        "id": "zhuVLsoetUq6"
      },
      "source": [
        "Create two contingency tables, one with Type and Alcohol_flag and another with Type and Sugar_flag.\n",
        "Use the tables in the previous exercise to calculate:\n",
        "* The prior probability of Type = Red and Type = White.\n",
        "* The probability of high and low alcohol content.\n",
        "* The probability of high and low sugar content.\n",
        "* The conditional probabilities p(Alcohol_flag = High ∣ Type = Red) and p(Alcohol_flag = Low ∣ Type = Red).\n",
        "* The conditional probabilities p(Alcohol_flag = High ∣ Type = White) and p(Alcohol_flag = Low ∣ Type = White).\n",
        "* The conditional probabilities p(Sugar_flag = High ∣ Type = Red) and p(Sugar_flag = Low ∣ Type = Red).\n",
        "* The conditional probabilities p(Sugar_flag = High ∣ Type = White) and p(Sugar_flag = Low ∣ Type = White)."
      ]
    },
    {
      "cell_type": "code",
      "metadata": {
        "colab": {
          "base_uri": "https://localhost:8080/"
        },
        "id": "4f80OP3rltUS",
        "outputId": "a7b37b26-0dc4-4a22-cf24-54ba976555e4"
      },
      "source": [
        "# contingency table (type and alcohol_flag)\n",
        "ct1 = pd.crosstab(wine_train.Type, wine_train.Alcohol_flag, margins=True)\n",
        "print(ct1)\n",
        "# contingency table (type and sugar_flag)\n",
        "ct2 = pd.crosstab(wine_train.Type, wine_train.Sugar_flag, margins=True)\n",
        "print(ct2)"
      ],
      "execution_count": 3,
      "outputs": [
        {
          "output_type": "stream",
          "text": [
            "Alcohol_flag  High  Low   All\n",
            "Type                         \n",
            "Red            218  282   500\n",
            "White          268  232   500\n",
            "All            486  514  1000\n",
            "Sugar_flag  High  Low   All\n",
            "Type                       \n",
            "Red          116  384   500\n",
            "White        300  200   500\n",
            "All          416  584  1000\n"
          ],
          "name": "stdout"
        }
      ]
    },
    {
      "cell_type": "code",
      "metadata": {
        "colab": {
          "base_uri": "https://localhost:8080/"
        },
        "id": "RlgaX4LCqOiK",
        "outputId": "ee3cd98f-913c-4d35-a343-c1317b436fb5"
      },
      "source": [
        "prob1 = ct1['All']['Red']/ct1['All']['All']\n",
        "print(f'''The prior probability of Type = Red is {round(prob1*100, 2)}%''')\n",
        "print(f'''The prior probability of Type = White is {round((1-prob1)*100, 2)}%''')\n",
        "prob2 = ct1['High']['All']/ct1['All']['All']\n",
        "print(f'''The probability of high alcohol content is {round(prob2*100, 2)}%''')\n",
        "print(f'''The probability of low alcohol content is {round((1-prob2)*100, 2)}%''')\n",
        "prob3 = ct2['High']['All']/ct2['All']['All']\n",
        "print(f'''The probability of high sugar content is {round(prob3*100, 2)}%''')\n",
        "print(f'''The probability of low sugar content is {round((1-prob3)*100, 2)}%''')\n",
        "prob4 = ct1['High']['Red']/ct1['All']['Red']\n",
        "print(f'''The conditional probabilities p(Alcohol_flag = High ∣ Type = Red) is {round(prob4*100, 2)}%''')\n",
        "print(f'''The conditional probabilities p(Alcohol_flag = Low ∣ Type = Red) is {round((1-prob4)*100, 2)}%''')\n",
        "prob5 = ct1['High']['White']/ct1['All']['White'] \n",
        "print(f'''The conditional probabilities p(Alcohol_flag = High ∣ Type = White) is {round(prob5*100, 2)}%''')\n",
        "print(f'''The conditional probabilities p(Alcohol_flag = Low ∣ Type = White) is {round((1-prob5)*100, 2)}%''')\n",
        "prob6 = ct2['High']['Red']/ct2['All']['Red']\n",
        "print(f'''The conditional probabilities p(Sugar_flag = High ∣ Type = Red) is {round(prob6*100, 2)}%''')\n",
        "print(f'''The conditional probabilities p(Sugar_flag = Low ∣ Type = Red) is {round((1-prob6)*100, 2)}%''')\n",
        "prob7 = ct2['High']['White']/ct2['All']['White']\n",
        "print(f'''The conditional probabilities p(Sugar_flag = High ∣ Type = White) is {round(prob7*100, 2)}%''')\n",
        "print(f'''The conditional probabilities p(Sugar_flag = Low ∣ Type = White) is {round((1-prob7)*100, 2)}%''')"
      ],
      "execution_count": 4,
      "outputs": [
        {
          "output_type": "stream",
          "text": [
            "The prior probability of Type = Red is 50.0%\n",
            "The prior probability of Type = White is 50.0%\n",
            "The probability of high alcohol content is 48.6%\n",
            "The probability of low alcohol content is 51.4%\n",
            "The probability of high sugar content is 41.6%\n",
            "The probability of low sugar content is 58.4%\n",
            "The conditional probabilities p(Alcohol_flag = High ∣ Type = Red) is 43.6%\n",
            "The conditional probabilities p(Alcohol_flag = Low ∣ Type = Red) is 56.4%\n",
            "The conditional probabilities p(Alcohol_flag = High ∣ Type = White) is 53.6%\n",
            "The conditional probabilities p(Alcohol_flag = Low ∣ Type = White) is 46.4%\n",
            "The conditional probabilities p(Sugar_flag = High ∣ Type = Red) is 23.2%\n",
            "The conditional probabilities p(Sugar_flag = Low ∣ Type = Red) is 76.8%\n",
            "The conditional probabilities p(Sugar_flag = High ∣ Type = White) is 60.0%\n",
            "The conditional probabilities p(Sugar_flag = Low ∣ Type = White) is 40.0%\n"
          ],
          "name": "stdout"
        }
      ]
    },
    {
      "cell_type": "markdown",
      "metadata": {
        "id": "SYK69VAMzJBx"
      },
      "source": [
        "Use the probabilities in the previous exercise to discuss\n",
        "\n",
        "* How likely it is that a randomly selected wine is red.\n",
        "* How likely it is that a randomly selected wine has a high alcohol content.\n",
        "* How likely it is that a randomly selected wine has a low sugar content."
      ]
    },
    {
      "cell_type": "code",
      "metadata": {
        "colab": {
          "base_uri": "https://localhost:8080/"
        },
        "id": "X99qaEOAyVwi",
        "outputId": "f5cb27d4-f98b-4cbe-c500-2c695d8a72de"
      },
      "source": [
        "print(f'''The probability that a randomly selected wine is red is {round(prob1*100, 2)}%''')\n",
        "print(f'''The probability that a randomly selected wine has a high alcohol content is {round(prob2*100, 2)}%''')\n",
        "print(f'''The probability that a randomly selected wine has a low sugar content is {round((1-prob3)*100, 2)}%''')"
      ],
      "execution_count": 5,
      "outputs": [
        {
          "output_type": "stream",
          "text": [
            "The probability that a randomly selected wine is red is 50.0%\n",
            "The probability that a randomly selected wine has a high alcohol content is 48.6%\n",
            "The probability that a randomly selected wine has a low sugar content is 58.4%\n"
          ],
          "name": "stdout"
        }
      ]
    },
    {
      "cell_type": "markdown",
      "metadata": {
        "id": "M19X_p1Dy9Qy"
      },
      "source": [
        "Use the conditional probabilities found earlier to discuss\n",
        "\n",
        "* What a typical white wine might have as its alcohol and sugar content.\n",
        "\n",
        "**Answer:** A typical white wine might have high alcohol and high sugar.\n",
        "\n",
        "* What a typical red wine might have as its alcohol and sugar content.\n",
        "\n",
        "**Answer:** A typical red wine might have low alcohol and low sugar."
      ]
    },
    {
      "cell_type": "markdown",
      "metadata": {
        "id": "Fi0YEUZJzkUM"
      },
      "source": [
        "Create side‐by‐side bar graphs for Type, one with an overlay of Alcohol_flag and the other with an overlay of Sugar_flag. Compare the graphs to the conditional probabilities you calculated."
      ]
    },
    {
      "cell_type": "code",
      "metadata": {
        "colab": {
          "base_uri": "https://localhost:8080/",
          "height": 315
        },
        "id": "gDP9enNTzuYF",
        "outputId": "192b436c-cdec-42d7-e381-2aee2db243d6"
      },
      "source": [
        "crosstab_01 = pd.crosstab(wine_train['Type'], wine_train['Alcohol_flag'])\n",
        "crosstab_norm_01 = crosstab_01.div(crosstab_01.sum(1),axis = 0)\n",
        "crosstab_norm_01.plot(kind = 'bar', stacked = True)"
      ],
      "execution_count": 6,
      "outputs": [
        {
          "output_type": "execute_result",
          "data": {
            "text/plain": [
              "<matplotlib.axes._subplots.AxesSubplot at 0x7f11a045ed90>"
            ]
          },
          "metadata": {
            "tags": []
          },
          "execution_count": 6
        },
        {
          "output_type": "display_data",
          "data": {
            "image/png": "[encoded data removed]",
            "text/plain": [
              "<Figure size 432x288 with 1 Axes>"
            ]
          },
          "metadata": {
            "tags": [],
            "needs_background": "light"
          }
        }
      ]
    },
    {
      "cell_type": "code",
      "metadata": {
        "colab": {
          "base_uri": "https://localhost:8080/",
          "height": 315
        },
        "id": "dJJEl1vr0Zj4",
        "outputId": "1c65f8bb-8f6c-4203-cee3-2d809d2e2d52"
      },
      "source": [
        "crosstab_02 = pd.crosstab(wine_train['Type'], wine_train['Sugar_flag'])\n",
        "crosstab_norm_02 = crosstab_02.div(crosstab_02.sum(1),axis = 0)\n",
        "crosstab_norm_02.plot(kind = 'bar', stacked = True)"
      ],
      "execution_count": 7,
      "outputs": [
        {
          "output_type": "execute_result",
          "data": {
            "text/plain": [
              "<matplotlib.axes._subplots.AxesSubplot at 0x7f11a034ee90>"
            ]
          },
          "metadata": {
            "tags": []
          },
          "execution_count": 7
        },
        {
          "output_type": "display_data",
          "data": {
            "image/png": "[encoded data removed]",
            "text/plain": [
              "<Figure size 432x288 with 1 Axes>"
            ]
          },
          "metadata": {
            "tags": [],
            "needs_background": "light"
          }
        }
      ]
    },
    {
      "cell_type": "markdown",
      "metadata": {
        "id": "yGJJ6g5S0n8A"
      },
      "source": [
        "**Answer:** The bar graphs shown above have the same result compared to the conditional probabilities calculated."
      ]
    },
    {
      "cell_type": "markdown",
      "metadata": {
        "id": "FqNUn6KBRFlt"
      },
      "source": [
        "Compute the posterior probability of Type = Red for a wine that is low in alcohol content and high in sugar content. Compute the posterior probability of Type = White for the same wine.\n",
        "\n",
        "Use your answers to the previous exercise to determine which type, red or white, is more probable for a wine with low alcohol and high sugar content. What would the Naïve Bayes classifier classify this wine as?"
      ]
    },
    {
      "cell_type": "code",
      "metadata": {
        "colab": {
          "base_uri": "https://localhost:8080/"
        },
        "id": "N6OT8pTKZU73",
        "outputId": "d901b059-3d64-42e6-e950-206f65ea22ec"
      },
      "source": [
        "prob8 = (1-prob4) * prob6 * prob1 / (1-prob2) / prob3\n",
        "prob9 = (1-prob5) * prob7 * (1-prob1) / (1-prob2) / prob3\n",
        "print(f'''P(Red|Low Alcohol & High Sugar) = {round(prob8*100,2)}%''')\n",
        "print(f'''P(White|Low Alcohol & High Sugar) = {round(prob9*100,2)}%''')"
      ],
      "execution_count": 8,
      "outputs": [
        {
          "output_type": "stream",
          "text": [
            "P(Red|Low Alcohol & High Sugar) = 30.6%\n",
            "P(White|Low Alcohol & High Sugar) = 65.1%\n"
          ],
          "name": "stdout"
        }
      ]
    },
    {
      "cell_type": "markdown",
      "metadata": {
        "id": "sLs9XO6BYKtl"
      },
      "source": [
        "**Answer:** Since the posterior probability of a low alcohol, high sugar wine being red is lower than the posterior probability of the same wine being white, the Naïve Bayes algorithm will classify the wine as **White**."
      ]
    },
    {
      "cell_type": "markdown",
      "metadata": {
        "id": "H9WrSB9BfqzF"
      },
      "source": [
        "Compute the posterior probability of Type = Red for a wine that is high in alcohol content and low in sugar content. \n",
        "Compute the posterior probability of Type = White for the same wine.\n",
        "\n",
        "Use your answers to the previous exercise to determine which type, red or white, is more probable for a wine with high alcohol and low sugar content. What would the Naïve Bayes classifier classify this wine as?"
      ]
    },
    {
      "cell_type": "code",
      "metadata": {
        "colab": {
          "base_uri": "https://localhost:8080/"
        },
        "id": "HE-SPzb7f0hT",
        "outputId": "648e56b7-b720-456a-c8f9-911b029e1186"
      },
      "source": [
        "prob10 = prob4 * (1-prob6) * prob1 / prob2 / (1-prob3)\n",
        "prob11 = prob5 * (1-prob7) * (1-prob1) / prob2 / (1-prob3)\n",
        "print(f'''P(Red|High Alcohol & Low Sugar) = {round(prob10*100,2)}%''')\n",
        "print(f'''P(White|High Alcohol & Low Sugar) = {round(prob11*100,2)}%''')"
      ],
      "execution_count": 9,
      "outputs": [
        {
          "output_type": "stream",
          "text": [
            "P(Red|High Alcohol & Low Sugar) = 58.99%\n",
            "P(White|High Alcohol & Low Sugar) = 37.77%\n"
          ],
          "name": "stdout"
        }
      ]
    },
    {
      "cell_type": "markdown",
      "metadata": {
        "id": "c8A90ivJgNgb"
      },
      "source": [
        "**Answer:** Since the posterior probability of a high alcohol, low sugar wine being red is higher than the posterior probability of the same wine being white, the Naïve Bayes algorithm will classify the wine as **Red**."
      ]
    },
    {
      "cell_type": "markdown",
      "metadata": {
        "id": "hHfKVwaOgebq"
      },
      "source": [
        "Run the Naïve Bayes classifier to classify wines as white or red based on alcohol and sugar content."
      ]
    },
    {
      "cell_type": "code",
      "metadata": {
        "id": "Z-0sEyrygfRh"
      },
      "source": [
        "wine_train['Type']= wine_train['Type'].replace({'Red': 1})\n",
        "wine_train['Type']= wine_train['Type'].replace({'White': 0})\n",
        "wine_train['Alcohol_flag']= wine_train['Alcohol_flag'].replace({'Low': 0})\n",
        "wine_train['Alcohol_flag']= wine_train['Alcohol_flag'].replace({'High': 1})\n",
        "wine_train['Sugar_flag']= wine_train['Sugar_flag'].replace({'Low': 0})\n",
        "wine_train['Sugar_flag']= wine_train['Sugar_flag'].replace({'High': 1})\n",
        "X_train = wine_train.drop(['Type'], axis =1)\n",
        "y_train = wine_train['Type']\n",
        "\n",
        "nb = GaussianNB().fit(X_train, y_train)"
      ],
      "execution_count": 10,
      "outputs": []
    },
    {
      "cell_type": "markdown",
      "metadata": {
        "id": "RPL2rSiHhTqM"
      },
      "source": [
        "Evaluate the Naïve Bayes model on the wines_test data set. Display the results in a contingency table. Edit the row and column names of the table to make the table more readable. Include a total row and column."
      ]
    },
    {
      "cell_type": "code",
      "metadata": {
        "id": "B-4TEnEehUsa"
      },
      "source": [
        "wine_test['Type']= wine_test['Type'].replace({'Red': 1})\n",
        "wine_test['Type']= wine_test['Type'].replace({'White': 0})\n",
        "wine_test['Alcohol_flag']= wine_test['Alcohol_flag'].replace({'Low': 0})\n",
        "wine_test['Alcohol_flag']= wine_test['Alcohol_flag'].replace({'High': 1})\n",
        "wine_test['Sugar_flag']= wine_test['Sugar_flag'].replace({'Low': 0})\n",
        "wine_test['Sugar_flag']= wine_test['Sugar_flag'].replace({'High': 1})\n",
        "X_test = wine_test.drop(['Type'], axis =1)\n",
        "y_test = wine_test['Type']\n"
      ],
      "execution_count": 11,
      "outputs": []
    },
    {
      "cell_type": "code",
      "metadata": {
        "colab": {
          "base_uri": "https://localhost:8080/",
          "height": 258
        },
        "id": "QkUtUmuHjZ4H",
        "outputId": "e682dd20-6107-4f6c-f071-e3ba0509de7d"
      },
      "source": [
        "y_predict = nb.predict(X_test)\n",
        "y_predict = pd.DataFrame(y_predict,index = y_test.index, columns = ['Predict'])\n",
        "y_test = wine_test[['Type']]\n",
        "y_test.rename(columns={'Type':'Actual'},inplace=True)\n",
        "df = y_predict.join(y_test)\n",
        "df['Predict']= df['Predict'].replace({1: 'Red'})\n",
        "df['Predict']= df['Predict'].replace({0: 'White'})\n",
        "df['Actual']= df['Actual'].replace({1: 'Red'})\n",
        "df['Actual']= df['Actual'].replace({0: 'White'})\n",
        "ct3 = pd.crosstab(df.Predict, df.Actual, margins=True)\n",
        "ct3"
      ],
      "execution_count": 12,
      "outputs": [
        {
          "output_type": "stream",
          "text": [
            "/usr/local/lib/python3.7/dist-packages/pandas/core/frame.py:4308: SettingWithCopyWarning: \n",
            "A value is trying to be set on a copy of a slice from a DataFrame\n",
            "\n",
            "See the caveats in the documentation: https://pandas.pydata.org/pandas-docs/stable/user_guide/indexing.html#returning-a-view-versus-a-copy\n",
            "  errors=errors,\n"
          ],
          "name": "stderr"
        },
        {
          "output_type": "execute_result",
          "data": {
            "text/html": [
              "<div>\n",
              "<style scoped>\n",
              "    .dataframe tbody tr th:only-of-type {\n",
              "        vertical-align: middle;\n",
              "    }\n",
              "\n",
              "    .dataframe tbody tr th {\n",
              "        vertical-align: top;\n",
              "    }\n",
              "\n",
              "    .dataframe thead th {\n",
              "        text-align: right;\n",
              "    }\n",
              "</style>\n",
              "<table border=\"1\" class=\"dataframe\">\n",
              "  <thead>\n",
              "    <tr style=\"text-align: right;\">\n",
              "      <th>Actual</th>\n",
              "      <th>Red</th>\n",
              "      <th>White</th>\n",
              "      <th>All</th>\n",
              "    </tr>\n",
              "    <tr>\n",
              "      <th>Predict</th>\n",
              "      <th></th>\n",
              "      <th></th>\n",
              "      <th></th>\n",
              "    </tr>\n",
              "  </thead>\n",
              "  <tbody>\n",
              "    <tr>\n",
              "      <th>Red</th>\n",
              "      <td>464</td>\n",
              "      <td>678</td>\n",
              "      <td>1142</td>\n",
              "    </tr>\n",
              "    <tr>\n",
              "      <th>White</th>\n",
              "      <td>121</td>\n",
              "      <td>1082</td>\n",
              "      <td>1203</td>\n",
              "    </tr>\n",
              "    <tr>\n",
              "      <th>All</th>\n",
              "      <td>585</td>\n",
              "      <td>1760</td>\n",
              "      <td>2345</td>\n",
              "    </tr>\n",
              "  </tbody>\n",
              "</table>\n",
              "</div>"
            ],
            "text/plain": [
              "Actual   Red  White   All\n",
              "Predict                  \n",
              "Red      464    678  1142\n",
              "White    121   1082  1203\n",
              "All      585   1760  2345"
            ]
          },
          "metadata": {
            "tags": []
          },
          "execution_count": 12
        }
      ]
    },
    {
      "cell_type": "markdown",
      "metadata": {
        "id": "Q1DdR882lDR5"
      },
      "source": [
        "According to your table in the previous exercise, find the following values for the Naïve Bayes model:\n",
        "\n",
        "* Accuracy\n",
        "* Error rate"
      ]
    },
    {
      "cell_type": "code",
      "metadata": {
        "colab": {
          "base_uri": "https://localhost:8080/"
        },
        "id": "Bi0MrqBHlImP",
        "outputId": "e1dacf41-e9f7-4145-9541-48594d796de0"
      },
      "source": [
        "accuracy = (ct3['Red']['Red']+ct3['White']['White'])/ct3['All']['All']\n",
        "error_rate = 1-accuracy\n",
        "print(f'''The Accuracy of the Naive Bayes model is {round((accuracy*100),2)}%''')\n",
        "print(f'''The Error Rate of the Naive Bayes model is {round((error_rate*100),2)}%''')"
      ],
      "execution_count": 13,
      "outputs": [
        {
          "output_type": "stream",
          "text": [
            "The Accuracy of the Naive Bayes model is 65.93%\n",
            "The Error Rate of the Naive Bayes model is 34.07%\n"
          ],
          "name": "stdout"
        }
      ]
    },
    {
      "cell_type": "markdown",
      "metadata": {
        "id": "4PIym5HtP0x7"
      },
      "source": [
        "According to your contingency table, find the following values for the Naïve Bayes model:\n",
        "\n",
        "* How often it correctly classifies red wines.\n",
        "\n",
        "* How often it correctly classifies white wines."
      ]
    },
    {
      "cell_type": "code",
      "metadata": {
        "colab": {
          "base_uri": "https://localhost:8080/"
        },
        "id": "ZC4qBRaemIps",
        "outputId": "18762443-99bf-414b-c8a1-98e3394cd872"
      },
      "source": [
        "red = ct3['Red']['Red']/ct3['All']['Red']\n",
        "white = ct3['White']['White']/ct3['All']['White']\n",
        "print(f'''The Naive Bayes model predicts {round((red*100),2)}% red wines correctly.''')\n",
        "print(f'''The Naive Bayes model predicts {round((white*100),2)}% white wines correctly.''')"
      ],
      "execution_count": 14,
      "outputs": [
        {
          "output_type": "stream",
          "text": [
            "The Naive Bayes model predicts 40.63% red wines correctly.\n",
            "The Naive Bayes model predicts 89.94% white wines correctly.\n"
          ],
          "name": "stdout"
        }
      ]
    },
    {
      "cell_type": "markdown",
      "metadata": {
        "id": "4wRE5d5ejtDr"
      },
      "source": [
        "Name a few classification algorithm, choose one and use it on a dataset of your choosing."
      ]
    },
    {
      "cell_type": "markdown",
      "metadata": {
        "id": "KcSUyNSmTiCi"
      },
      "source": [
        "**Answer:** There are decision tree, xgboost, random forest, neural network, K-Nearest Neighbors, Logistic Regression and Naive Bayes. In this problem, I'll use Logistic Regression on the Wisconsin breast cancer dataset from sklearn package."
      ]
    },
    {
      "cell_type": "code",
      "metadata": {
        "id": "XD40BazSiNQW"
      },
      "source": [
        "df = load_breast_cancer()\n",
        "X = pd.DataFrame(df.data, columns=df.feature_names) #predictors\n",
        "y = pd.Categorical.from_codes(df.target, df.target_names) #target"
      ],
      "execution_count": 15,
      "outputs": []
    },
    {
      "cell_type": "code",
      "metadata": {
        "colab": {
          "base_uri": "https://localhost:8080/"
        },
        "id": "jmVsF9YsV-X8",
        "outputId": "baf859c8-6fe7-4718-adc8-f263cc10392d"
      },
      "source": [
        "X_train, X_test, y_train, y_test = train_test_split(X, y, random_state=42, test_size=0.2)\n",
        "\n",
        "clf = LogisticRegression(random_state=42).fit(X_train, y_train)\n",
        "y_pred = clf.predict(X_test)\n",
        "print('Accuracy =', round(np.mean(y_pred == y_test), 4))"
      ],
      "execution_count": 16,
      "outputs": [
        {
          "output_type": "stream",
          "text": [
            "Accuracy = 0.9649\n"
          ],
          "name": "stdout"
        },
        {
          "output_type": "stream",
          "text": [
            "/usr/local/lib/python3.7/dist-packages/sklearn/linear_model/_logistic.py:940: ConvergenceWarning: lbfgs failed to converge (status=1):\n",
            "STOP: TOTAL NO. of ITERATIONS REACHED LIMIT.\n",
            "\n",
            "Increase the number of iterations (max_iter) or scale the data as shown in:\n",
            "    https://scikit-learn.org/stable/modules/preprocessing.html\n",
            "Please also refer to the documentation for alternative solver options:\n",
            "    https://scikit-learn.org/stable/modules/linear_model.html#logistic-regression\n",
            "  extra_warning_msg=_LOGISTIC_SOLVER_CONVERGENCE_MSG)\n"
          ],
          "name": "stderr"
        }
      ]
    },
    {
      "cell_type": "markdown",
      "metadata": {
        "id": "Y0yiEpbXZZUz"
      },
      "source": [
        "Apply ANN and decision tree algorithm on the wine dataset and compare the result? which one is better and why?"
      ]
    },
    {
      "cell_type": "code",
      "metadata": {
        "id": "WPoLYfnArD93"
      },
      "source": [
        "X_train = wine_train.drop(['Type'], axis =1)\n",
        "y_train = wine_train['Type']\n",
        "X_test = wine_test.drop(['Type'], axis =1)\n",
        "y_test = wine_test['Type']"
      ],
      "execution_count": 17,
      "outputs": []
    },
    {
      "cell_type": "code",
      "metadata": {
        "colab": {
          "base_uri": "https://localhost:8080/"
        },
        "id": "S0F15M-uanhH",
        "outputId": "1249846f-ac3a-4525-f156-14602641a962"
      },
      "source": [
        "nn = MLPClassifier(random_state=42).fit(X_train, y_train)\n",
        "y_pred = nn.predict(X_test)\n",
        "print('Accuracy =', round(np.mean(y_pred == y_test), 4))"
      ],
      "execution_count": 18,
      "outputs": [
        {
          "output_type": "stream",
          "text": [
            "Accuracy = 0.6593\n"
          ],
          "name": "stdout"
        }
      ]
    },
    {
      "cell_type": "code",
      "metadata": {
        "colab": {
          "base_uri": "https://localhost:8080/"
        },
        "id": "0-m1ccldcYFC",
        "outputId": "9d6ccf07-db1b-4f59-e51e-692f8d53ef82"
      },
      "source": [
        "dt = DecisionTreeClassifier(random_state=42).fit(X_train, y_train)\n",
        "y_pred = dt.predict(X_test)\n",
        "print('Accuracy =', round(np.mean(y_pred == y_test), 4))"
      ],
      "execution_count": 19,
      "outputs": [
        {
          "output_type": "stream",
          "text": [
            "Accuracy = 0.6593\n"
          ],
          "name": "stdout"
        }
      ]
    },
    {
      "cell_type": "markdown",
      "metadata": {
        "id": "O3gXbUH_rsh0"
      },
      "source": [
        "The ANN and decision tree both have the same accuracy with the Naive Bays model, because there are only to predictors, and both predictor have binary values, which won't provide too much information for the models to make predictions."
      ]
    }
  ]
}