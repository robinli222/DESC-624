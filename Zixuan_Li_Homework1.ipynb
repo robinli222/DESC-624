{
  "nbformat": 4,
  "nbformat_minor": 0,
  "metadata": {
    "colab": {
      "name": "Homework1.ipynb",
      "provenance": []
    },
    "kernelspec": {
      "name": "python3",
      "display_name": "Python 3"
    },
    "language_info": {
      "name": "python"
    }
  },
  "cells": [
    {
      "cell_type": "markdown",
      "metadata": {
        "id": "vjJEcgoxMgEw"
      },
      "source": [
        "<p><img alt=\"Colaboratory logo\" height=\"45px\" src=\"/img/colab_favicon.ico\" align=\"left\" hspace=\"10px\" vspace=\"0px\"></p>\n",
        "\n",
        "\n",
        "\n",
        "# **Homework 1 (Zixuan Li):**\n",
        "\n",
        "\n",
        "---\n",
        "\n",
        "\n",
        "- Please complete each of the problems below\n",
        "- Show all your code to complete each question\n",
        "- Provide sentence(s) explaining your solution\n",
        "- For your decision tree, please be sure to output the actual image directly in python as opposed to a .dot file\n",
        "\n",
        "\n",
        "It is recommended that you read chapters 3, 4, and 6 to prepare for this module!"
      ]
    },
    {
      "cell_type": "markdown",
      "metadata": {
        "id": "znO59SazSoQ2"
      },
      "source": [
        "**Please use the following dataset for problems 1 - 6**\n",
        "\n",
        "\n",
        "\n"
      ]
    },
    {
      "cell_type": "code",
      "metadata": {
        "id": "qLDi6YEBStT1",
        "colab": {
          "base_uri": "https://localhost:8080/",
          "height": 555
        },
        "outputId": "cec89494-cacc-4a5c-fe1e-03e30b1029c0"
      },
      "source": [
        "import pandas as pd\n",
        "\n",
        "URL_adult='https://raw.githubusercontent.com/kamranbakhtiari/DESC624/main/Adult'\n",
        "adult = pd.read_csv(URL_adult)\n",
        "\n",
        "adult\n"
      ],
      "execution_count": 1,
      "outputs": [
        {
          "output_type": "execute_result",
          "data": {
            "text/html": [
              "<div>\n",
              "<style scoped>\n",
              "    .dataframe tbody tr th:only-of-type {\n",
              "        vertical-align: middle;\n",
              "    }\n",
              "\n",
              "    .dataframe tbody tr th {\n",
              "        vertical-align: top;\n",
              "    }\n",
              "\n",
              "    .dataframe thead th {\n",
              "        text-align: right;\n",
              "    }\n",
              "</style>\n",
              "<table border=\"1\" class=\"dataframe\">\n",
              "  <thead>\n",
              "    <tr style=\"text-align: right;\">\n",
              "      <th></th>\n",
              "      <th>age</th>\n",
              "      <th>workclass</th>\n",
              "      <th>demogweight</th>\n",
              "      <th>education</th>\n",
              "      <th>education-num</th>\n",
              "      <th>marital-status</th>\n",
              "      <th>occupation</th>\n",
              "      <th>relationship</th>\n",
              "      <th>race</th>\n",
              "      <th>sex</th>\n",
              "      <th>capital-gain</th>\n",
              "      <th>capital-loss</th>\n",
              "      <th>hours-per-week</th>\n",
              "      <th>native-country</th>\n",
              "      <th>income</th>\n",
              "    </tr>\n",
              "  </thead>\n",
              "  <tbody>\n",
              "    <tr>\n",
              "      <th>0</th>\n",
              "      <td>39</td>\n",
              "      <td>State-gov</td>\n",
              "      <td>77516</td>\n",
              "      <td>Bachelors</td>\n",
              "      <td>13</td>\n",
              "      <td>Never-married</td>\n",
              "      <td>Adm-clerical</td>\n",
              "      <td>Not-in-family</td>\n",
              "      <td>White</td>\n",
              "      <td>Male</td>\n",
              "      <td>2174</td>\n",
              "      <td>0</td>\n",
              "      <td>40</td>\n",
              "      <td>United-States</td>\n",
              "      <td>&lt;=50K.</td>\n",
              "    </tr>\n",
              "    <tr>\n",
              "      <th>1</th>\n",
              "      <td>50</td>\n",
              "      <td>Self-emp-not-inc</td>\n",
              "      <td>83311</td>\n",
              "      <td>Bachelors</td>\n",
              "      <td>13</td>\n",
              "      <td>Married-civ-spouse</td>\n",
              "      <td>Exec-managerial</td>\n",
              "      <td>Husband</td>\n",
              "      <td>White</td>\n",
              "      <td>Male</td>\n",
              "      <td>0</td>\n",
              "      <td>0</td>\n",
              "      <td>13</td>\n",
              "      <td>United-States</td>\n",
              "      <td>&lt;=50K.</td>\n",
              "    </tr>\n",
              "    <tr>\n",
              "      <th>2</th>\n",
              "      <td>38</td>\n",
              "      <td>Private</td>\n",
              "      <td>215646</td>\n",
              "      <td>HS-grad</td>\n",
              "      <td>9</td>\n",
              "      <td>Divorced</td>\n",
              "      <td>Handlers-cleaners</td>\n",
              "      <td>Not-in-family</td>\n",
              "      <td>White</td>\n",
              "      <td>Male</td>\n",
              "      <td>0</td>\n",
              "      <td>0</td>\n",
              "      <td>40</td>\n",
              "      <td>United-States</td>\n",
              "      <td>&lt;=50K.</td>\n",
              "    </tr>\n",
              "    <tr>\n",
              "      <th>3</th>\n",
              "      <td>53</td>\n",
              "      <td>Private</td>\n",
              "      <td>234721</td>\n",
              "      <td>11th</td>\n",
              "      <td>7</td>\n",
              "      <td>Married-civ-spouse</td>\n",
              "      <td>Handlers-cleaners</td>\n",
              "      <td>Husband</td>\n",
              "      <td>Black</td>\n",
              "      <td>Male</td>\n",
              "      <td>0</td>\n",
              "      <td>0</td>\n",
              "      <td>40</td>\n",
              "      <td>United-States</td>\n",
              "      <td>&lt;=50K.</td>\n",
              "    </tr>\n",
              "    <tr>\n",
              "      <th>4</th>\n",
              "      <td>28</td>\n",
              "      <td>Private</td>\n",
              "      <td>338409</td>\n",
              "      <td>Bachelors</td>\n",
              "      <td>13</td>\n",
              "      <td>Married-civ-spouse</td>\n",
              "      <td>Prof-specialty</td>\n",
              "      <td>Wife</td>\n",
              "      <td>Black</td>\n",
              "      <td>Female</td>\n",
              "      <td>0</td>\n",
              "      <td>0</td>\n",
              "      <td>40</td>\n",
              "      <td>Cuba</td>\n",
              "      <td>&lt;=50K.</td>\n",
              "    </tr>\n",
              "    <tr>\n",
              "      <th>...</th>\n",
              "      <td>...</td>\n",
              "      <td>...</td>\n",
              "      <td>...</td>\n",
              "      <td>...</td>\n",
              "      <td>...</td>\n",
              "      <td>...</td>\n",
              "      <td>...</td>\n",
              "      <td>...</td>\n",
              "      <td>...</td>\n",
              "      <td>...</td>\n",
              "      <td>...</td>\n",
              "      <td>...</td>\n",
              "      <td>...</td>\n",
              "      <td>...</td>\n",
              "      <td>...</td>\n",
              "    </tr>\n",
              "    <tr>\n",
              "      <th>24995</th>\n",
              "      <td>41</td>\n",
              "      <td>Private</td>\n",
              "      <td>112507</td>\n",
              "      <td>10th</td>\n",
              "      <td>6</td>\n",
              "      <td>Married-civ-spouse</td>\n",
              "      <td>Transport-moving</td>\n",
              "      <td>Husband</td>\n",
              "      <td>White</td>\n",
              "      <td>Male</td>\n",
              "      <td>0</td>\n",
              "      <td>0</td>\n",
              "      <td>60</td>\n",
              "      <td>United-States</td>\n",
              "      <td>&lt;=50K.</td>\n",
              "    </tr>\n",
              "    <tr>\n",
              "      <th>24996</th>\n",
              "      <td>19</td>\n",
              "      <td>Private</td>\n",
              "      <td>236940</td>\n",
              "      <td>HS-grad</td>\n",
              "      <td>9</td>\n",
              "      <td>Never-married</td>\n",
              "      <td>Farming-fishing</td>\n",
              "      <td>Own-child</td>\n",
              "      <td>White</td>\n",
              "      <td>Male</td>\n",
              "      <td>0</td>\n",
              "      <td>0</td>\n",
              "      <td>40</td>\n",
              "      <td>United-States</td>\n",
              "      <td>&lt;=50K.</td>\n",
              "    </tr>\n",
              "    <tr>\n",
              "      <th>24997</th>\n",
              "      <td>33</td>\n",
              "      <td>Private</td>\n",
              "      <td>278514</td>\n",
              "      <td>HS-grad</td>\n",
              "      <td>9</td>\n",
              "      <td>Divorced</td>\n",
              "      <td>Craft-repair</td>\n",
              "      <td>Own-child</td>\n",
              "      <td>White</td>\n",
              "      <td>Female</td>\n",
              "      <td>0</td>\n",
              "      <td>0</td>\n",
              "      <td>42</td>\n",
              "      <td>United-States</td>\n",
              "      <td>&lt;=50K.</td>\n",
              "    </tr>\n",
              "    <tr>\n",
              "      <th>24998</th>\n",
              "      <td>21</td>\n",
              "      <td>?</td>\n",
              "      <td>433330</td>\n",
              "      <td>Some-college</td>\n",
              "      <td>10</td>\n",
              "      <td>Never-married</td>\n",
              "      <td>?</td>\n",
              "      <td>Unmarried</td>\n",
              "      <td>White</td>\n",
              "      <td>Male</td>\n",
              "      <td>0</td>\n",
              "      <td>0</td>\n",
              "      <td>40</td>\n",
              "      <td>United-States</td>\n",
              "      <td>&lt;=50K.</td>\n",
              "    </tr>\n",
              "    <tr>\n",
              "      <th>24999</th>\n",
              "      <td>25</td>\n",
              "      <td>Private</td>\n",
              "      <td>258379</td>\n",
              "      <td>Bachelors</td>\n",
              "      <td>13</td>\n",
              "      <td>Married-civ-spouse</td>\n",
              "      <td>Prof-specialty</td>\n",
              "      <td>Wife</td>\n",
              "      <td>White</td>\n",
              "      <td>Female</td>\n",
              "      <td>0</td>\n",
              "      <td>0</td>\n",
              "      <td>32</td>\n",
              "      <td>United-States</td>\n",
              "      <td>&lt;=50K.</td>\n",
              "    </tr>\n",
              "  </tbody>\n",
              "</table>\n",
              "<p>25000 rows × 15 columns</p>\n",
              "</div>"
            ],
            "text/plain": [
              "       age         workclass  ...  native-country  income\n",
              "0       39         State-gov  ...   United-States  <=50K.\n",
              "1       50  Self-emp-not-inc  ...   United-States  <=50K.\n",
              "2       38           Private  ...   United-States  <=50K.\n",
              "3       53           Private  ...   United-States  <=50K.\n",
              "4       28           Private  ...            Cuba  <=50K.\n",
              "...    ...               ...  ...             ...     ...\n",
              "24995   41           Private  ...   United-States  <=50K.\n",
              "24996   19           Private  ...   United-States  <=50K.\n",
              "24997   33           Private  ...   United-States  <=50K.\n",
              "24998   21                 ?  ...   United-States  <=50K.\n",
              "24999   25           Private  ...   United-States  <=50K.\n",
              "\n",
              "[25000 rows x 15 columns]"
            ]
          },
          "metadata": {
            "tags": []
          },
          "execution_count": 1
        }
      ]
    },
    {
      "cell_type": "markdown",
      "metadata": {
        "id": "xujDJlgGNdSt"
      },
      "source": [
        "**1. Partition the data set, so that 50% of the records are included in the training data set and 50% are included in the test data set.  Use a bar graph to conifrm your proportions**\n",
        "\n",
        "\n",
        "\n"
      ]
    },
    {
      "cell_type": "code",
      "metadata": {
        "id": "CHDeKB_bNza5",
        "colab": {
          "base_uri": "https://localhost:8080/",
          "height": 296
        },
        "outputId": "1b82743b-60c0-41f1-b8e1-b1268301b9c3"
      },
      "source": [
        "# Test Train Split\n",
        "from sklearn.model_selection import train_test_split\n",
        "train, test = train_test_split(adult, test_size=0.5, random_state=42)\n",
        "\n",
        "# Bar graph\n",
        "import seaborn as sns\n",
        "size = pd.DataFrame({\"name\":['test', 'train'], \n",
        "                     \"prop\":[len(test)/len(adult), len(train)/len(adult)]})\n",
        "sns.barplot(x='name', y='prop', data=size)"
      ],
      "execution_count": 2,
      "outputs": [
        {
          "output_type": "execute_result",
          "data": {
            "text/plain": [
              "<matplotlib.axes._subplots.AxesSubplot at 0x7f56ec7bd450>"
            ]
          },
          "metadata": {
            "tags": []
          },
          "execution_count": 2
        },
        {
          "output_type": "display_data",
          "data": {
            "image/png": "[encoded data removed]",
            "text/plain": [
              "<Figure size 432x288 with 1 Axes>"
            ]
          },
          "metadata": {
            "tags": [],
            "needs_background": "light"
          }
        }
      ]
    },
    {
      "cell_type": "markdown",
      "metadata": {
        "id": "08xfIQQIN11C"
      },
      "source": [
        "* **Test Train Split**\n",
        "\n",
        "Use train_test_split function in sklearn package to split the dataset into 50% traning and 50% test. Setting randome_state number to make sure that every time the code is run, identical result can be generated. \n",
        "\n",
        "* **Bar Graph**\n",
        "\n",
        "Before plotting the proportion, use the length (number of records) of training/test dataset to form a size dataframe. Then use the size dataframe to generate a bar plot, and the bar plot shows that each dataset has 50% of the total records.\n"
      ]
    },
    {
      "cell_type": "markdown",
      "metadata": {
        "id": "9m5Z9SUiN902"
      },
      "source": [
        "**2. Identify te total number of records in the training data set, and how many records in the training data set have an income value of < 50k**"
      ]
    },
    {
      "cell_type": "code",
      "metadata": {
        "id": "j1-jL8vNOLHq",
        "colab": {
          "base_uri": "https://localhost:8080/"
        },
        "outputId": "102afa30-4ca8-428c-c67a-137e6666cc7e"
      },
      "source": [
        "# Number of Records in Traning set\n",
        "print(f'''The number of records in the training dataset is {len(train)}''')\n",
        "\n",
        "# Number of Records in Traning set with income <50k\n",
        "print(f'''There are {len(train.loc[train[\"income\"]=='<=50K.'])} records in the training data set have an income value of <50k.''')"
      ],
      "execution_count": 3,
      "outputs": [
        {
          "output_type": "stream",
          "text": [
            "The number of records in the training dataset is 12500\n",
            "There are 9543 records in the training data set have an income value of <50k.\n"
          ],
          "name": "stdout"
        }
      ]
    },
    {
      "cell_type": "markdown",
      "metadata": {
        "id": "W4g6RJyqOMeF"
      },
      "source": [
        "To show the number of records in a dataframe, I use the .len() method. To show the number of records that satisfy certain criteria, i use the .loc() method and conditional operator == to select those records before using .len() method."
      ]
    },
    {
      "cell_type": "markdown",
      "metadata": {
        "id": "kUaTYgj7Ou9e"
      },
      "source": [
        "**3. Use your answers from the previous excercise to calculate how many records with income >50k you need to resmaple in order to have 35% of the rebalanced data set have incomes of >50k**"
      ]
    },
    {
      "cell_type": "code",
      "metadata": {
        "id": "zi3dD24DP7y6",
        "colab": {
          "base_uri": "https://localhost:8080/"
        },
        "outputId": "4aede7e2-088c-4124-e736-99fd7cc78303"
      },
      "source": [
        "print(f'''There are {len(train.loc[train[\"income\"]=='>50K.'])} records in the training set with income of >50K, which is {(len(train.loc[train[\"income\"]=='>50K.'])/len(train))*100}% of the total number of records.\n",
        "In order to have 35% ({int(.35*len(train))}) of >50K records in the training set, {((.35*len(train)-len(train.loc[train[\"income\"]=='>50K.']))/(1-.35))} records need to be resampled to the training set.''')"
      ],
      "execution_count": 4,
      "outputs": [
        {
          "output_type": "stream",
          "text": [
            "There are 2957 records in the training set with income of >50K, which is 23.656% of the total number of records.\n",
            "In order to have 35% (4375) of >50K records in the training set, 2181.5384615384614 records need to be resampled to the training set.\n"
          ],
          "name": "stdout"
        }
      ]
    },
    {
      "cell_type": "markdown",
      "metadata": {
        "id": "EsNBcf_8P9V_"
      },
      "source": [
        "To calculate the number of records that need to be resampled, I use the equation number = (target proportion * total number of records - existing number of records that fulfill) / (1 - target proportion). In this case, the number need to be resampled = ((0.35*12500)-2957)/(1-0.35) = 2182"
      ]
    },
    {
      "cell_type": "markdown",
      "metadata": {
        "id": "nCax9VPUQACJ"
      },
      "source": [
        "**4. Perform the rebalancing described in the previous exercise and confirm that 35% of the records in the rebalanced data set have incomes >50k**"
      ]
    },
    {
      "cell_type": "code",
      "metadata": {
        "id": "PkoTGcubRfDV",
        "colab": {
          "base_uri": "https://localhost:8080/"
        },
        "outputId": "5242b145-d495-4688-8511-3ab56de5e793"
      },
      "source": [
        "to_resample = train.loc[train['income'] == \">50K.\"]\n",
        "our_resample = to_resample.sample(n=2182, replace=True)\n",
        "train_rebal = pd.concat([train, our_resample])\n",
        "train_rebal.income.value_counts(normalize=True)"
      ],
      "execution_count": 5,
      "outputs": [
        {
          "output_type": "execute_result",
          "data": {
            "text/plain": [
              "<=50K.    0.64998\n",
              ">50K.     0.35002\n",
              "Name: income, dtype: float64"
            ]
          },
          "metadata": {
            "tags": []
          },
          "execution_count": 5
        }
      ]
    },
    {
      "cell_type": "markdown",
      "metadata": {
        "id": "rK2MwNHdRgI8"
      },
      "source": [
        "First subset the records that fulfill the requirement, and use .sample() method to replace 2182 (calculated in the previous step) records. Finally, combine the replaced records with the original training dataframe. The result from .value_counts() method shows that there're 35% records in the >50K. income category. "
      ]
    },
    {
      "cell_type": "markdown",
      "metadata": {
        "id": "h6FkRmCHRnYk"
      },
      "source": [
        "**5. Validate your partition by performing a two-sample Z-test for the difference in means for the mean age in the training set versus the mean age in the test set?**"
      ]
    },
    {
      "cell_type": "code",
      "metadata": {
        "id": "KK6POUfCR1_o",
        "colab": {
          "base_uri": "https://localhost:8080/"
        },
        "outputId": "dd0302dd-4858-4c8e-81ae-a3a1f55dd20b"
      },
      "source": [
        "import statsmodels.stats.weightstats as ws\n",
        "cm_obj = ws.CompareMeans(ws.DescrStatsW(train_rebal['age']), ws.DescrStatsW(test['age']))\n",
        "stat1, pval1 = cm_obj.ztest_ind()\n",
        "print(f'''The z-value is: {stat1}''')\n",
        "print(f'''The p-value is: {pval1}''')"
      ],
      "execution_count": 6,
      "outputs": [
        {
          "output_type": "stream",
          "text": [
            "The z-value is: 4.833007809531671\n",
            "The p-value is: 1.3448550937633549e-06\n"
          ],
          "name": "stdout"
        },
        {
          "output_type": "stream",
          "text": [
            "/usr/local/lib/python3.7/dist-packages/statsmodels/tools/_testing.py:19: FutureWarning: pandas.util.testing is deprecated. Use the functions in the public API at pandas.testing instead.\n",
            "  import pandas.util.testing as tm\n"
          ],
          "name": "stderr"
        }
      ]
    },
    {
      "cell_type": "markdown",
      "metadata": {
        "id": "WzRG2Tn6SOhl"
      },
      "source": [
        "To compare mean of 2 sets of numerical sample data, I use CompareMeans in statsmodels package. The p-value of the test is far less than 0.05, so the test result is significant. Also, the Z value is greater than 1.96 (95%CI), so we are able to reject the null hypothesis that the mean age of the two dataset are the same."
      ]
    },
    {
      "cell_type": "markdown",
      "metadata": {
        "id": "Q3lSLp4HSRam"
      },
      "source": [
        "**6. Validate your partition by performing a two-sample Z-test for the difference in proportion of >50k records in the training set versus the proportion of >50k records in the test set?**"
      ]
    },
    {
      "cell_type": "code",
      "metadata": {
        "id": "7W9RmFzZSgJO",
        "colab": {
          "base_uri": "https://localhost:8080/"
        },
        "outputId": "ac8ff57c-0b4d-4410-98b5-5f1c5c3d5e72"
      },
      "source": [
        "import numpy as np\n",
        "from statsmodels.stats.proportion import proportions_ztest\n",
        "counts = np.array([len(train_rebal.loc[train_rebal[\"income\"]=='>50K.']), \n",
        "                   len(test.loc[test[\"income\"]=='>50K.'])])\n",
        "nobs = np.array([len(train_rebal), len(test)])\n",
        "stat2, pval2 = proportions_ztest(counts, nobs)\n",
        "print(f'''The z-value is: {stat2}''')\n",
        "print(f'''The p-value is: {pval2}''')"
      ],
      "execution_count": 7,
      "outputs": [
        {
          "output_type": "stream",
          "text": [
            "The z-value is: 19.332419409947466\n",
            "The p-value is: 2.866551737802054e-83\n"
          ],
          "name": "stdout"
        }
      ]
    },
    {
      "cell_type": "markdown",
      "metadata": {
        "id": "Gp3hdZ8uSggu"
      },
      "source": [
        "To compare proportion of 2 sets of numerical sample data, I use proportions_ztest in statsmodels package. Number of observation is the total number of records, and counts is the number of records with income value of >50K. The p-value of the test is far less than 0.05, so the test result is significant. Also, the Z value is greater than 1.96 (95%CI), so we are able to reject the null hypothesis that the proportion of income >50K in the two dataset are the same."
      ]
    },
    {
      "cell_type": "markdown",
      "metadata": {
        "id": "1zO6VWw3SkT_"
      },
      "source": [
        "**Please use the following dataset for problems 7 - 8**"
      ]
    },
    {
      "cell_type": "code",
      "metadata": {
        "id": "Fv1-SSWnS3He",
        "colab": {
          "base_uri": "https://localhost:8080/",
          "height": 419
        },
        "outputId": "6cd8bd21-722d-428c-c172-45ea9568cd60"
      },
      "source": [
        "import pandas as pd\n",
        "\n",
        "URL_loan_training='https://raw.githubusercontent.com/kamranbakhtiari/DESC624/main/Loans_Training'\n",
        "URL_loan_test='https://raw.githubusercontent.com/kamranbakhtiari/DESC624/main/Loans_Test'\n",
        "\n",
        "loan_test = pd.read_csv(URL_loan_test)\n",
        "loan_training = pd.read_csv(URL_loan_training)\n",
        "\n",
        "loan_test\n",
        "loan_training"
      ],
      "execution_count": 8,
      "outputs": [
        {
          "output_type": "execute_result",
          "data": {
            "text/html": [
              "<div>\n",
              "<style scoped>\n",
              "    .dataframe tbody tr th:only-of-type {\n",
              "        vertical-align: middle;\n",
              "    }\n",
              "\n",
              "    .dataframe tbody tr th {\n",
              "        vertical-align: top;\n",
              "    }\n",
              "\n",
              "    .dataframe thead th {\n",
              "        text-align: right;\n",
              "    }\n",
              "</style>\n",
              "<table border=\"1\" class=\"dataframe\">\n",
              "  <thead>\n",
              "    <tr style=\"text-align: right;\">\n",
              "      <th></th>\n",
              "      <th>Approval</th>\n",
              "      <th>Debt-to-Income Ratio</th>\n",
              "      <th>FICO Score</th>\n",
              "      <th>Request Amount</th>\n",
              "      <th>Interest</th>\n",
              "    </tr>\n",
              "  </thead>\n",
              "  <tbody>\n",
              "    <tr>\n",
              "      <th>0</th>\n",
              "      <td>F</td>\n",
              "      <td>0.00</td>\n",
              "      <td>397</td>\n",
              "      <td>1000</td>\n",
              "      <td>450.0</td>\n",
              "    </tr>\n",
              "    <tr>\n",
              "      <th>1</th>\n",
              "      <td>F</td>\n",
              "      <td>0.00</td>\n",
              "      <td>403</td>\n",
              "      <td>500</td>\n",
              "      <td>225.0</td>\n",
              "    </tr>\n",
              "    <tr>\n",
              "      <th>2</th>\n",
              "      <td>F</td>\n",
              "      <td>0.00</td>\n",
              "      <td>408</td>\n",
              "      <td>1000</td>\n",
              "      <td>450.0</td>\n",
              "    </tr>\n",
              "    <tr>\n",
              "      <th>3</th>\n",
              "      <td>F</td>\n",
              "      <td>0.00</td>\n",
              "      <td>408</td>\n",
              "      <td>2000</td>\n",
              "      <td>900.0</td>\n",
              "    </tr>\n",
              "    <tr>\n",
              "      <th>4</th>\n",
              "      <td>F</td>\n",
              "      <td>0.00</td>\n",
              "      <td>411</td>\n",
              "      <td>5000</td>\n",
              "      <td>2250.0</td>\n",
              "    </tr>\n",
              "    <tr>\n",
              "      <th>...</th>\n",
              "      <td>...</td>\n",
              "      <td>...</td>\n",
              "      <td>...</td>\n",
              "      <td>...</td>\n",
              "      <td>...</td>\n",
              "    </tr>\n",
              "    <tr>\n",
              "      <th>150297</th>\n",
              "      <td>T</td>\n",
              "      <td>0.38</td>\n",
              "      <td>709</td>\n",
              "      <td>19000</td>\n",
              "      <td>8550.0</td>\n",
              "    </tr>\n",
              "    <tr>\n",
              "      <th>150298</th>\n",
              "      <td>T</td>\n",
              "      <td>0.38</td>\n",
              "      <td>722</td>\n",
              "      <td>17000</td>\n",
              "      <td>7650.0</td>\n",
              "    </tr>\n",
              "    <tr>\n",
              "      <th>150299</th>\n",
              "      <td>T</td>\n",
              "      <td>0.38</td>\n",
              "      <td>747</td>\n",
              "      <td>11000</td>\n",
              "      <td>4950.0</td>\n",
              "    </tr>\n",
              "    <tr>\n",
              "      <th>150300</th>\n",
              "      <td>T</td>\n",
              "      <td>0.39</td>\n",
              "      <td>679</td>\n",
              "      <td>10000</td>\n",
              "      <td>4500.0</td>\n",
              "    </tr>\n",
              "    <tr>\n",
              "      <th>150301</th>\n",
              "      <td>T</td>\n",
              "      <td>0.39</td>\n",
              "      <td>769</td>\n",
              "      <td>7000</td>\n",
              "      <td>3150.0</td>\n",
              "    </tr>\n",
              "  </tbody>\n",
              "</table>\n",
              "<p>150302 rows × 5 columns</p>\n",
              "</div>"
            ],
            "text/plain": [
              "       Approval  Debt-to-Income Ratio  FICO Score  Request Amount  Interest\n",
              "0             F                  0.00         397            1000     450.0\n",
              "1             F                  0.00         403             500     225.0\n",
              "2             F                  0.00         408            1000     450.0\n",
              "3             F                  0.00         408            2000     900.0\n",
              "4             F                  0.00         411            5000    2250.0\n",
              "...         ...                   ...         ...             ...       ...\n",
              "150297        T                  0.38         709           19000    8550.0\n",
              "150298        T                  0.38         722           17000    7650.0\n",
              "150299        T                  0.38         747           11000    4950.0\n",
              "150300        T                  0.39         679           10000    4500.0\n",
              "150301        T                  0.39         769            7000    3150.0\n",
              "\n",
              "[150302 rows x 5 columns]"
            ]
          },
          "metadata": {
            "tags": []
          },
          "execution_count": 8
        }
      ]
    },
    {
      "cell_type": "markdown",
      "metadata": {
        "id": "OAPRjRlTS2sm"
      },
      "source": [
        "**7. Create a CART model using the training data set that predicts Approval using Debt to Income Ratio, FICO score, and Request Amount. Visualize the decision Tree (make sure the decision tree appears directly in this workbook, not a seperate .dot file).  Describe the first few splits in the decision tree.  What do the values in the brackets represent?  The sample size for each node?  the Root?**"
      ]
    },
    {
      "cell_type": "code",
      "metadata": {
        "id": "8L_g08A5TT72",
        "colab": {
          "base_uri": "https://localhost:8080/",
          "height": 648
        },
        "outputId": "d9c657f1-5564-407f-e805-aaeea40287d7"
      },
      "source": [
        "from sklearn.tree import DecisionTreeClassifier\n",
        "from sklearn.tree import export_graphviz\n",
        "from sklearn.externals.six import StringIO \n",
        "from IPython.display import Image \n",
        "from pydot import graph_from_dot_data\n",
        "import matplotlib as mpl\n",
        "\n",
        "mpl.rcParams[\"figure.dpi\"] = 150\n",
        "\n",
        "y = loan_training[['Approval']]\n",
        "X_names=[\"Debt-to-Income Ratio\", \"FICO Score\", \"Request Amount\"]\n",
        "clf1=DecisionTreeClassifier(criterion=\"gini\", max_leaf_nodes=5).fit(loan_training[X_names], y)\n",
        "export_graphviz(clf1, out_file = \"clf1.dot\", feature_names=X_names, class_names=['F', 'T'])\n",
        "decisiontree01= StringIO()\n",
        "export_graphviz(clf1, out_file = decisiontree01, feature_names=X_names, class_names=['F', 'T'])\n",
        "(graph, ) = graph_from_dot_data(decisiontree01.getvalue())\n",
        "Image(graph.create_png())"
      ],
      "execution_count": 9,
      "outputs": [
        {
          "output_type": "stream",
          "text": [
            "/usr/local/lib/python3.7/dist-packages/sklearn/externals/six.py:31: FutureWarning: The module is deprecated in version 0.21 and will be removed in version 0.23 since we've dropped support for Python 2.7. Please rely on the official version of six (https://pypi.org/project/six/).\n",
            "  \"(https://pypi.org/project/six/).\", FutureWarning)\n"
          ],
          "name": "stderr"
        },
        {
          "output_type": "execute_result",
          "data": {
            "image/png": "[encoded data removed]",
            "text/plain": [
              "<IPython.core.display.Image object>"
            ]
          },
          "metadata": {
            "tags": []
          },
          "execution_count": 9
        }
      ]
    },
    {
      "cell_type": "markdown",
      "metadata": {
        "id": "w40I4c6qTVQA"
      },
      "source": [
        "The CART model first decide whether approve or not based on the independent variables. First, it separates by FICO socre. If the FICO Score is less than or equal to 659.5, it's not approved. Then it separates by Debt-to-Income Ratio. For those with a FICO score higher than 659.5, if its Debt-to-Income Ratio is larger than 0.305, it's not approved, otherwize it's approved. The values in the brackets represent number of approved and not approved in each Root, tree or node. For example, in the node where FICO score lower than 659.5, there're 44,194 not approved, and 1,808 approved records."
      ]
    },
    {
      "cell_type": "markdown",
      "metadata": {
        "id": "lh92b33bTX7n"
      },
      "source": [
        "**8. Create a CART model using the test data set that uses the same target and predictor variables.  Visualize the decision Tree (make sure the decision tree appears directly in this workbook, not a seperate .dot file).  Describe the first few splits in the decision tree.  What do the values in the brackets represent?  The sample size for each node?  the Root?  Does the tree built using the test data match the tree built using the training data?**"
      ]
    },
    {
      "cell_type": "code",
      "metadata": {
        "id": "EPnmtawiTp7j",
        "colab": {
          "base_uri": "https://localhost:8080/",
          "height": 594
        },
        "outputId": "0b3ebfec-6989-4d5e-b7cf-6ef69b1ef434"
      },
      "source": [
        "y = loan_test[['Approval']]\n",
        "X_names=[\"Debt-to-Income Ratio\", \"FICO Score\", \"Request Amount\"]\n",
        "clf2=DecisionTreeClassifier(criterion=\"gini\", max_leaf_nodes=5).fit(loan_test[X_names], y)\n",
        "export_graphviz(clf2, out_file = \"clf2.dot\", feature_names=X_names, class_names=['F', 'T'])\n",
        "decisiontree02= StringIO()\n",
        "export_graphviz(clf2, out_file = decisiontree02, feature_names=X_names, class_names=['F', 'T'])\n",
        "(graph, ) = graph_from_dot_data(decisiontree02.getvalue())\n",
        "Image(graph.create_png())"
      ],
      "execution_count": 10,
      "outputs": [
        {
          "output_type": "execute_result",
          "data": {
            "image/png": "[encoded data removed]",
            "text/plain": [
              "<IPython.core.display.Image object>"
            ]
          },
          "metadata": {
            "tags": []
          },
          "execution_count": 10
        }
      ]
    },
    {
      "cell_type": "markdown",
      "metadata": {
        "id": "RN7SYAbZTq_p"
      },
      "source": [
        "The CART model first decide whether approve or not based on the independent variables. First, it separates by FICO socre. If the FICO Score is less than or equal to 660.5, it's not approved. Then it separates by Debt-to-Income Ratio. For those with a FICO score higher than 659.5, if its Debt-to-Income Ratio is larger than 0.305, it's not approved, otherwize it's approved. The values in the brackets represent number of approved and not approved in each Root, tree or node. For example, in the node where FICO score lower than 660.5, there're 14,754 not approved, and 727 approved records.\n",
        "\n",
        "The tree built based on test dataset is very similar to that built based on training dataset, except that the threashold of FICO Score is slightly different.\n"
      ]
    }
  ]
}