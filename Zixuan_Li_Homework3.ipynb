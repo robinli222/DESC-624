{
  "nbformat": 4,
  "nbformat_minor": 0,
  "metadata": {
    "colab": {
      "name": "Zixuan_Li_Homework3.ipynb",
      "provenance": [],
      "collapsed_sections": []
    },
    "kernelspec": {
      "name": "python3",
      "display_name": "Python 3"
    },
    "language_info": {
      "name": "python"
    }
  },
  "cells": [
    {
      "cell_type": "markdown",
      "metadata": {
        "id": "vjJEcgoxMgEw"
      },
      "source": [
        "<p><img alt=\"Colaboratory logo\" height=\"45px\" src=\"/img/colab_favicon.ico\" align=\"left\" hspace=\"10px\" vspace=\"0px\"></p>\n",
        "\n",
        "\n",
        "\n",
        "# **Homework 3 (Zixuan Li):**\n",
        "\n",
        "\n",
        "---\n",
        "\n",
        "\n",
        "- Please complete each of the problems below\n",
        "- Show all your code to complete each question\n",
        "- Provide sentence(s) explaining your solution\n",
        "\n",
        "\n",
        "\n",
        "It is recommended that you read chapters 11 to prepare for this module!"
      ]
    },
    {
      "cell_type": "markdown",
      "metadata": {
        "id": "znO59SazSoQ2"
      },
      "source": [
        "**Please use the following dataset for problems 1 - 6**\n",
        "\n",
        "\n",
        "\n"
      ]
    },
    {
      "cell_type": "code",
      "metadata": {
        "id": "qLDi6YEBStT1",
        "colab": {
          "base_uri": "https://localhost:8080/",
          "height": 419
        },
        "outputId": "305b634a-bc5a-417b-d304-09372be07490"
      },
      "source": [
        "import pandas as pd\n",
        "\n",
        "URL_Framingham_training='https://raw.githubusercontent.com/kamranbakhtiari/DESC624/main/Framingham_Training'\n",
        "URL_Framingham_test='https://raw.githubusercontent.com/kamranbakhtiari/DESC624/main/Framingham_Test'\n",
        "\n",
        "Framingham_test = pd.read_csv('https://raw.githubusercontent.com/kamranbakhtiari/DESC624/main/Framingham_Test')\n",
        "Framingham_training = pd.read_csv('https://raw.githubusercontent.com/kamranbakhtiari/DESC624/main/Framingham_Training')\n",
        "\n",
        "\n",
        "##Use training data set to answer questions below\n",
        "\n",
        "Framingham_test\n"
      ],
      "execution_count": 1,
      "outputs": [
        {
          "output_type": "execute_result",
          "data": {
            "text/html": [
              "<div>\n",
              "<style scoped>\n",
              "    .dataframe tbody tr th:only-of-type {\n",
              "        vertical-align: middle;\n",
              "    }\n",
              "\n",
              "    .dataframe tbody tr th {\n",
              "        vertical-align: top;\n",
              "    }\n",
              "\n",
              "    .dataframe thead th {\n",
              "        text-align: right;\n",
              "    }\n",
              "</style>\n",
              "<table border=\"1\" class=\"dataframe\">\n",
              "  <thead>\n",
              "    <tr style=\"text-align: right;\">\n",
              "      <th></th>\n",
              "      <th>Index</th>\n",
              "      <th>Sex</th>\n",
              "      <th>Age</th>\n",
              "      <th>Educ</th>\n",
              "      <th>Death</th>\n",
              "    </tr>\n",
              "  </thead>\n",
              "  <tbody>\n",
              "    <tr>\n",
              "      <th>0</th>\n",
              "      <td>4</td>\n",
              "      <td>2</td>\n",
              "      <td>52</td>\n",
              "      <td>2</td>\n",
              "      <td>0</td>\n",
              "    </tr>\n",
              "    <tr>\n",
              "      <th>1</th>\n",
              "      <td>6</td>\n",
              "      <td>1</td>\n",
              "      <td>48</td>\n",
              "      <td>1</td>\n",
              "      <td>0</td>\n",
              "    </tr>\n",
              "    <tr>\n",
              "      <th>2</th>\n",
              "      <td>10</td>\n",
              "      <td>2</td>\n",
              "      <td>46</td>\n",
              "      <td>3</td>\n",
              "      <td>0</td>\n",
              "    </tr>\n",
              "    <tr>\n",
              "      <th>3</th>\n",
              "      <td>14</td>\n",
              "      <td>2</td>\n",
              "      <td>49</td>\n",
              "      <td>2</td>\n",
              "      <td>0</td>\n",
              "    </tr>\n",
              "    <tr>\n",
              "      <th>4</th>\n",
              "      <td>16</td>\n",
              "      <td>2</td>\n",
              "      <td>63</td>\n",
              "      <td>1</td>\n",
              "      <td>0</td>\n",
              "    </tr>\n",
              "    <tr>\n",
              "      <th>...</th>\n",
              "      <td>...</td>\n",
              "      <td>...</td>\n",
              "      <td>...</td>\n",
              "      <td>...</td>\n",
              "      <td>...</td>\n",
              "    </tr>\n",
              "    <tr>\n",
              "      <th>2252</th>\n",
              "      <td>11307</td>\n",
              "      <td>2</td>\n",
              "      <td>56</td>\n",
              "      <td>1</td>\n",
              "      <td>0</td>\n",
              "    </tr>\n",
              "    <tr>\n",
              "      <th>2253</th>\n",
              "      <td>11313</td>\n",
              "      <td>1</td>\n",
              "      <td>68</td>\n",
              "      <td>1</td>\n",
              "      <td>1</td>\n",
              "    </tr>\n",
              "    <tr>\n",
              "      <th>2254</th>\n",
              "      <td>11323</td>\n",
              "      <td>2</td>\n",
              "      <td>50</td>\n",
              "      <td>1</td>\n",
              "      <td>1</td>\n",
              "    </tr>\n",
              "    <tr>\n",
              "      <th>2255</th>\n",
              "      <td>11326</td>\n",
              "      <td>2</td>\n",
              "      <td>58</td>\n",
              "      <td>2</td>\n",
              "      <td>0</td>\n",
              "    </tr>\n",
              "    <tr>\n",
              "      <th>2256</th>\n",
              "      <td>11328</td>\n",
              "      <td>1</td>\n",
              "      <td>46</td>\n",
              "      <td>3</td>\n",
              "      <td>0</td>\n",
              "    </tr>\n",
              "  </tbody>\n",
              "</table>\n",
              "<p>2257 rows × 5 columns</p>\n",
              "</div>"
            ],
            "text/plain": [
              "      Index  Sex  Age  Educ  Death\n",
              "0         4    2   52     2      0\n",
              "1         6    1   48     1      0\n",
              "2        10    2   46     3      0\n",
              "3        14    2   49     2      0\n",
              "4        16    2   63     1      0\n",
              "...     ...  ...  ...   ...    ...\n",
              "2252  11307    2   56     1      0\n",
              "2253  11313    1   68     1      1\n",
              "2254  11323    2   50     1      1\n",
              "2255  11326    2   58     2      0\n",
              "2256  11328    1   46     3      0\n",
              "\n",
              "[2257 rows x 5 columns]"
            ]
          },
          "metadata": {
            "tags": []
          },
          "execution_count": 1
        }
      ]
    },
    {
      "cell_type": "markdown",
      "metadata": {
        "id": "xujDJlgGNdSt"
      },
      "source": [
        "**1. Use the training set to run a regression predicting Age, based on Sex and Education.  Obtain a summary of the model.  Do both predictors belong in the model?**\n",
        "\n",
        "\n",
        "\n"
      ]
    },
    {
      "cell_type": "code",
      "metadata": {
        "id": "CHDeKB_bNza5",
        "colab": {
          "base_uri": "https://localhost:8080/",
          "height": 519
        },
        "outputId": "da788bfe-4245-44d5-b6c4-e97401983b25"
      },
      "source": [
        "import statsmodels.api as sm\n",
        "\n",
        "X_train = pd.DataFrame(Framingham_training[['Sex', 'Educ']])\n",
        "X_train = sm.add_constant(X_train)\n",
        "y_train = pd.DataFrame(Framingham_training[['Age']])\n",
        "\n",
        "model01=sm.OLS(y_train, X_train).fit()\n",
        "model01.summary()"
      ],
      "execution_count": 2,
      "outputs": [
        {
          "output_type": "stream",
          "text": [
            "/usr/local/lib/python3.7/dist-packages/statsmodels/tools/_testing.py:19: FutureWarning: pandas.util.testing is deprecated. Use the functions in the public API at pandas.testing instead.\n",
            "  import pandas.util.testing as tm\n"
          ],
          "name": "stderr"
        },
        {
          "output_type": "execute_result",
          "data": {
            "text/html": [
              "<table class=\"simpletable\">\n",
              "<caption>OLS Regression Results</caption>\n",
              "<tr>\n",
              "  <th>Dep. Variable:</th>           <td>Age</td>       <th>  R-squared:         </th> <td>   0.017</td> \n",
              "</tr>\n",
              "<tr>\n",
              "  <th>Model:</th>                   <td>OLS</td>       <th>  Adj. R-squared:    </th> <td>   0.017</td> \n",
              "</tr>\n",
              "<tr>\n",
              "  <th>Method:</th>             <td>Least Squares</td>  <th>  F-statistic:       </th> <td>   67.93</td> \n",
              "</tr>\n",
              "<tr>\n",
              "  <th>Date:</th>             <td>Sun, 30 May 2021</td> <th>  Prob (F-statistic):</th> <td>5.58e-30</td> \n",
              "</tr>\n",
              "<tr>\n",
              "  <th>Time:</th>                 <td>10:56:35</td>     <th>  Log-Likelihood:    </th> <td> -29110.</td> \n",
              "</tr>\n",
              "<tr>\n",
              "  <th>No. Observations:</th>      <td>  7953</td>      <th>  AIC:               </th> <td>5.823e+04</td>\n",
              "</tr>\n",
              "<tr>\n",
              "  <th>Df Residuals:</th>          <td>  7950</td>      <th>  BIC:               </th> <td>5.825e+04</td>\n",
              "</tr>\n",
              "<tr>\n",
              "  <th>Df Model:</th>              <td>     2</td>      <th>                     </th>     <td> </td>    \n",
              "</tr>\n",
              "<tr>\n",
              "  <th>Covariance Type:</th>      <td>nonrobust</td>    <th>                     </th>     <td> </td>    \n",
              "</tr>\n",
              "</table>\n",
              "<table class=\"simpletable\">\n",
              "<tr>\n",
              "    <td></td>       <th>coef</th>     <th>std err</th>      <th>t</th>      <th>P>|t|</th>  <th>[0.025</th>    <th>0.975]</th>  \n",
              "</tr>\n",
              "<tr>\n",
              "  <th>const</th> <td>   56.3600</td> <td>    0.408</td> <td>  138.025</td> <td> 0.000</td> <td>   55.560</td> <td>   57.160</td>\n",
              "</tr>\n",
              "<tr>\n",
              "  <th>Sex</th>   <td>    0.4309</td> <td>    0.213</td> <td>    2.023</td> <td> 0.043</td> <td>    0.013</td> <td>    0.848</td>\n",
              "</tr>\n",
              "<tr>\n",
              "  <th>Educ</th>  <td>   -1.1845</td> <td>    0.103</td> <td>  -11.446</td> <td> 0.000</td> <td>   -1.387</td> <td>   -0.982</td>\n",
              "</tr>\n",
              "</table>\n",
              "<table class=\"simpletable\">\n",
              "<tr>\n",
              "  <th>Omnibus:</th>       <td>297.738</td> <th>  Durbin-Watson:     </th> <td>   1.426</td>\n",
              "</tr>\n",
              "<tr>\n",
              "  <th>Prob(Omnibus):</th> <td> 0.000</td>  <th>  Jarque-Bera (JB):  </th> <td> 148.843</td>\n",
              "</tr>\n",
              "<tr>\n",
              "  <th>Skew:</th>          <td> 0.136</td>  <th>  Prob(JB):          </th> <td>4.78e-33</td>\n",
              "</tr>\n",
              "<tr>\n",
              "  <th>Kurtosis:</th>      <td> 2.387</td>  <th>  Cond. No.          </th> <td>    12.1</td>\n",
              "</tr>\n",
              "</table><br/><br/>Warnings:<br/>[1] Standard Errors assume that the covariance matrix of the errors is correctly specified."
            ],
            "text/plain": [
              "<class 'statsmodels.iolib.summary.Summary'>\n",
              "\"\"\"\n",
              "                            OLS Regression Results                            \n",
              "==============================================================================\n",
              "Dep. Variable:                    Age   R-squared:                       0.017\n",
              "Model:                            OLS   Adj. R-squared:                  0.017\n",
              "Method:                 Least Squares   F-statistic:                     67.93\n",
              "Date:                Sun, 30 May 2021   Prob (F-statistic):           5.58e-30\n",
              "Time:                        10:56:35   Log-Likelihood:                -29110.\n",
              "No. Observations:                7953   AIC:                         5.823e+04\n",
              "Df Residuals:                    7950   BIC:                         5.825e+04\n",
              "Df Model:                           2                                         \n",
              "Covariance Type:            nonrobust                                         \n",
              "==============================================================================\n",
              "                 coef    std err          t      P>|t|      [0.025      0.975]\n",
              "------------------------------------------------------------------------------\n",
              "const         56.3600      0.408    138.025      0.000      55.560      57.160\n",
              "Sex            0.4309      0.213      2.023      0.043       0.013       0.848\n",
              "Educ          -1.1845      0.103    -11.446      0.000      -1.387      -0.982\n",
              "==============================================================================\n",
              "Omnibus:                      297.738   Durbin-Watson:                   1.426\n",
              "Prob(Omnibus):                  0.000   Jarque-Bera (JB):              148.843\n",
              "Skew:                           0.136   Prob(JB):                     4.78e-33\n",
              "Kurtosis:                       2.387   Cond. No.                         12.1\n",
              "==============================================================================\n",
              "\n",
              "Warnings:\n",
              "[1] Standard Errors assume that the covariance matrix of the errors is correctly specified.\n",
              "\"\"\""
            ]
          },
          "metadata": {
            "tags": []
          },
          "execution_count": 2
        }
      ]
    },
    {
      "cell_type": "markdown",
      "metadata": {
        "id": "08xfIQQIN11C"
      },
      "source": [
        "Both predictors are in the model, the Sex variable has a coefficient of 0.4309 and the Educ variable has a coefficient of -1.1845"
      ]
    },
    {
      "cell_type": "markdown",
      "metadata": {
        "id": "9m5Z9SUiN902"
      },
      "source": [
        "**2. Validate the model from the previous exercise**"
      ]
    },
    {
      "cell_type": "code",
      "metadata": {
        "id": "j1-jL8vNOLHq",
        "colab": {
          "base_uri": "https://localhost:8080/",
          "height": 465
        },
        "outputId": "fad11681-a4ec-466c-891e-d9c007671e5d"
      },
      "source": [
        "X_test = pd.DataFrame(Framingham_test[['Sex', 'Educ']])\n",
        "y_test = pd.DataFrame(Framingham_test[['Age']])\n",
        "X_test = sm.add_constant(X_test)\n",
        "\n",
        "model01_test=sm.OLS(y_test, X_test).fit()\n",
        "model01_test.summary()"
      ],
      "execution_count": 3,
      "outputs": [
        {
          "output_type": "execute_result",
          "data": {
            "text/html": [
              "<table class=\"simpletable\">\n",
              "<caption>OLS Regression Results</caption>\n",
              "<tr>\n",
              "  <th>Dep. Variable:</th>           <td>Age</td>       <th>  R-squared:         </th> <td>   0.020</td> \n",
              "</tr>\n",
              "<tr>\n",
              "  <th>Model:</th>                   <td>OLS</td>       <th>  Adj. R-squared:    </th> <td>   0.019</td> \n",
              "</tr>\n",
              "<tr>\n",
              "  <th>Method:</th>             <td>Least Squares</td>  <th>  F-statistic:       </th> <td>   22.74</td> \n",
              "</tr>\n",
              "<tr>\n",
              "  <th>Date:</th>             <td>Sun, 30 May 2021</td> <th>  Prob (F-statistic):</th> <td>1.67e-10</td> \n",
              "</tr>\n",
              "<tr>\n",
              "  <th>Time:</th>                 <td>10:56:35</td>     <th>  Log-Likelihood:    </th> <td> -8308.5</td> \n",
              "</tr>\n",
              "<tr>\n",
              "  <th>No. Observations:</th>      <td>  2257</td>      <th>  AIC:               </th> <td>1.662e+04</td>\n",
              "</tr>\n",
              "<tr>\n",
              "  <th>Df Residuals:</th>          <td>  2254</td>      <th>  BIC:               </th> <td>1.664e+04</td>\n",
              "</tr>\n",
              "<tr>\n",
              "  <th>Df Model:</th>              <td>     2</td>      <th>                     </th>     <td> </td>    \n",
              "</tr>\n",
              "<tr>\n",
              "  <th>Covariance Type:</th>      <td>nonrobust</td>    <th>                     </th>     <td> </td>    \n",
              "</tr>\n",
              "</table>\n",
              "<table class=\"simpletable\">\n",
              "<tr>\n",
              "    <td></td>       <th>coef</th>     <th>std err</th>      <th>t</th>      <th>P>|t|</th>  <th>[0.025</th>    <th>0.975]</th>  \n",
              "</tr>\n",
              "<tr>\n",
              "  <th>const</th> <td>   55.4202</td> <td>    0.784</td> <td>   70.690</td> <td> 0.000</td> <td>   53.883</td> <td>   56.958</td>\n",
              "</tr>\n",
              "<tr>\n",
              "  <th>Sex</th>   <td>    1.0424</td> <td>    0.409</td> <td>    2.548</td> <td> 0.011</td> <td>    0.240</td> <td>    1.845</td>\n",
              "</tr>\n",
              "<tr>\n",
              "  <th>Educ</th>  <td>   -1.1954</td> <td>    0.193</td> <td>   -6.199</td> <td> 0.000</td> <td>   -1.574</td> <td>   -0.817</td>\n",
              "</tr>\n",
              "</table>\n",
              "<table class=\"simpletable\">\n",
              "<tr>\n",
              "  <th>Omnibus:</th>       <td>97.498</td> <th>  Durbin-Watson:     </th> <td>   1.705</td>\n",
              "</tr>\n",
              "<tr>\n",
              "  <th>Prob(Omnibus):</th> <td> 0.000</td> <th>  Jarque-Bera (JB):  </th> <td>  51.146</td>\n",
              "</tr>\n",
              "<tr>\n",
              "  <th>Skew:</th>          <td> 0.190</td> <th>  Prob(JB):          </th> <td>7.83e-12</td>\n",
              "</tr>\n",
              "<tr>\n",
              "  <th>Kurtosis:</th>      <td> 2.368</td> <th>  Cond. No.          </th> <td>    12.2</td>\n",
              "</tr>\n",
              "</table><br/><br/>Warnings:<br/>[1] Standard Errors assume that the covariance matrix of the errors is correctly specified."
            ],
            "text/plain": [
              "<class 'statsmodels.iolib.summary.Summary'>\n",
              "\"\"\"\n",
              "                            OLS Regression Results                            \n",
              "==============================================================================\n",
              "Dep. Variable:                    Age   R-squared:                       0.020\n",
              "Model:                            OLS   Adj. R-squared:                  0.019\n",
              "Method:                 Least Squares   F-statistic:                     22.74\n",
              "Date:                Sun, 30 May 2021   Prob (F-statistic):           1.67e-10\n",
              "Time:                        10:56:35   Log-Likelihood:                -8308.5\n",
              "No. Observations:                2257   AIC:                         1.662e+04\n",
              "Df Residuals:                    2254   BIC:                         1.664e+04\n",
              "Df Model:                           2                                         \n",
              "Covariance Type:            nonrobust                                         \n",
              "==============================================================================\n",
              "                 coef    std err          t      P>|t|      [0.025      0.975]\n",
              "------------------------------------------------------------------------------\n",
              "const         55.4202      0.784     70.690      0.000      53.883      56.958\n",
              "Sex            1.0424      0.409      2.548      0.011       0.240       1.845\n",
              "Educ          -1.1954      0.193     -6.199      0.000      -1.574      -0.817\n",
              "==============================================================================\n",
              "Omnibus:                       97.498   Durbin-Watson:                   1.705\n",
              "Prob(Omnibus):                  0.000   Jarque-Bera (JB):               51.146\n",
              "Skew:                           0.190   Prob(JB):                     7.83e-12\n",
              "Kurtosis:                       2.368   Cond. No.                         12.2\n",
              "==============================================================================\n",
              "\n",
              "Warnings:\n",
              "[1] Standard Errors assume that the covariance matrix of the errors is correctly specified.\n",
              "\"\"\""
            ]
          },
          "metadata": {
            "tags": []
          },
          "execution_count": 3
        }
      ]
    },
    {
      "cell_type": "markdown",
      "metadata": {
        "id": "W4g6RJyqOMeF"
      },
      "source": [
        "From the summary tables of linear regression model on both training and test dataset, we can see that the coefficients for constant and education variable are very similar, but the coefficients for the Sex variable are quite different yet still with same direction (both positive)."
      ]
    },
    {
      "cell_type": "markdown",
      "metadata": {
        "id": "kUaTYgj7Ou9e"
      },
      "source": [
        "**3. Use the regression equation to complete this sentence:  \"The estimated Age equals...\"**\n"
      ]
    },
    {
      "cell_type": "code",
      "metadata": {
        "id": "zi3dD24DP7y6",
        "colab": {
          "base_uri": "https://localhost:8080/"
        },
        "outputId": "704c4124-bd23-4f1d-8db3-932e2d20d685"
      },
      "source": [
        "print(f'''The estimated Age equals {round(model01.predict(X_test.head(1))[0], 2)}.''')"
      ],
      "execution_count": 4,
      "outputs": [
        {
          "output_type": "stream",
          "text": [
            "The estimated Age equals 54.85.\n"
          ],
          "name": "stdout"
        }
      ]
    },
    {
      "cell_type": "markdown",
      "metadata": {
        "id": "EsNBcf_8P9V_"
      },
      "source": [
        "The code above uses the linear regression model trained on the training dataset to predict the age of the first record in the test dataset, by using Sex and Education as predictors."
      ]
    },
    {
      "cell_type": "markdown",
      "metadata": {
        "id": "nCax9VPUQACJ"
      },
      "source": [
        "**4. Interpret the coefficient for Sex**"
      ]
    },
    {
      "cell_type": "code",
      "metadata": {
        "colab": {
          "base_uri": "https://localhost:8080/"
        },
        "id": "Rw24NCzMxAxf",
        "outputId": "67bcf47c-e504-49d9-dc17-3fc4152dba0e"
      },
      "source": [
        "print(f'''The coefficient of the Sex variable of the training dataset model is {model01.params['Sex']}.''')"
      ],
      "execution_count": 5,
      "outputs": [
        {
          "output_type": "stream",
          "text": [
            "The coefficient of the Sex variable of the training dataset model is 0.4309154906201525.\n"
          ],
          "name": "stdout"
        }
      ]
    },
    {
      "cell_type": "code",
      "metadata": {
        "id": "PkoTGcubRfDV",
        "colab": {
          "base_uri": "https://localhost:8080/"
        },
        "outputId": "25dc89e9-7152-4d36-e550-c29e2d731d90"
      },
      "source": [
        "Framingham_training.Sex.unique()"
      ],
      "execution_count": 6,
      "outputs": [
        {
          "output_type": "execute_result",
          "data": {
            "text/plain": [
              "array([1, 2])"
            ]
          },
          "metadata": {
            "tags": []
          },
          "execution_count": 6
        }
      ]
    },
    {
      "cell_type": "markdown",
      "metadata": {
        "id": "rK2MwNHdRgI8"
      },
      "source": [
        "The coefficient of The Sex variable of the training dataset model is 0.43, which means when the Sex variable increase by 1, the dependent variable, which is the Age increase by 0.43. In this case, there're only 2 unique values in the sex variable, which are 1 and 2. Therefore, assuming that 2 represent female and 1 represent male, the coefficient of 0.43 means that the age of a female is 0.43 higher than a male, keeping everything else constant."
      ]
    },
    {
      "cell_type": "markdown",
      "metadata": {
        "id": "h6FkRmCHRnYk"
      },
      "source": [
        "**5. Interpret the coefficient for Education.**\n",
        "\n"
      ]
    },
    {
      "cell_type": "code",
      "metadata": {
        "id": "KK6POUfCR1_o",
        "colab": {
          "base_uri": "https://localhost:8080/"
        },
        "outputId": "1cc9c4f0-0b50-4f40-d6ce-07b6c75dc05d"
      },
      "source": [
        "print(f'''The coefficient of the Education variable of the training dataset model is {model01.params['Educ']}.''')"
      ],
      "execution_count": 7,
      "outputs": [
        {
          "output_type": "stream",
          "text": [
            "The coefficient of the Education variable of the training dataset model is -1.1844730431294532.\n"
          ],
          "name": "stdout"
        }
      ]
    },
    {
      "cell_type": "code",
      "metadata": {
        "colab": {
          "base_uri": "https://localhost:8080/"
        },
        "id": "8u3ba5Qqy8pi",
        "outputId": "458b97e5-ee97-451a-b248-ed52f20f970a"
      },
      "source": [
        "Framingham_training.Educ.unique()"
      ],
      "execution_count": 8,
      "outputs": [
        {
          "output_type": "execute_result",
          "data": {
            "text/plain": [
              "array([4, 2, 1, 3])"
            ]
          },
          "metadata": {
            "tags": []
          },
          "execution_count": 8
        }
      ]
    },
    {
      "cell_type": "markdown",
      "metadata": {
        "id": "WzRG2Tn6SOhl"
      },
      "source": [
        "The coefficient of the Education variable is -1.18, which means when the Education level increase by 1, the age decrease by 1.18, keeping everything else constant."
      ]
    },
    {
      "cell_type": "markdown",
      "metadata": {
        "id": "Q3lSLp4HSRam"
      },
      "source": [
        "**6. Find and interpret the value of Standard error.**"
      ]
    },
    {
      "cell_type": "code",
      "metadata": {
        "id": "7W9RmFzZSgJO",
        "colab": {
          "base_uri": "https://localhost:8080/"
        },
        "outputId": "8d4ff6bf-2d91-4ab2-c380-a4946123843a"
      },
      "source": [
        "model01.bse"
      ],
      "execution_count": 9,
      "outputs": [
        {
          "output_type": "execute_result",
          "data": {
            "text/plain": [
              "const    0.408331\n",
              "Sex      0.212981\n",
              "Educ     0.103486\n",
              "dtype: float64"
            ]
          },
          "metadata": {
            "tags": []
          },
          "execution_count": 9
        }
      ]
    },
    {
      "cell_type": "markdown",
      "metadata": {
        "id": "Gp3hdZ8uSggu"
      },
      "source": [
        "The standard error of all predictors are shown above, it measures the scatter in the actual data around the estimate regression line."
      ]
    },
    {
      "cell_type": "markdown",
      "metadata": {
        "id": "OAPRjRlTS2sm"
      },
      "source": [
        "**7. Find and interpret r2 (adj)**\n"
      ]
    },
    {
      "cell_type": "code",
      "metadata": {
        "id": "8L_g08A5TT72",
        "colab": {
          "base_uri": "https://localhost:8080/"
        },
        "outputId": "5a97b712-27a2-4614-b7f8-96eaaa4a031e"
      },
      "source": [
        "model01.rsquared_adj"
      ],
      "execution_count": 10,
      "outputs": [
        {
          "output_type": "execute_result",
          "data": {
            "text/plain": [
              "0.016555460752073592"
            ]
          },
          "metadata": {
            "tags": []
          },
          "execution_count": 10
        }
      ]
    },
    {
      "cell_type": "markdown",
      "metadata": {
        "id": "w40I4c6qTVQA"
      },
      "source": [
        "The adjusted r-square value is shown above, it means how much variation can be explained by using this model, which in this case is quite low."
      ]
    },
    {
      "cell_type": "markdown",
      "metadata": {
        "id": "lh92b33bTX7n"
      },
      "source": [
        "**8. Use your formula to make a prediction of predictor values of your choice.  Apply 95% prediction interval. Interpret the results**"
      ]
    },
    {
      "cell_type": "code",
      "metadata": {
        "id": "EPnmtawiTp7j",
        "colab": {
          "base_uri": "https://localhost:8080/",
          "height": 80
        },
        "outputId": "1a49672a-7921-4ffd-9692-0f6e7683e038"
      },
      "source": [
        "model01.get_prediction(X_test.head(1)).summary_frame(alpha = 0.05)"
      ],
      "execution_count": 11,
      "outputs": [
        {
          "output_type": "execute_result",
          "data": {
            "text/html": [
              "<div>\n",
              "<style scoped>\n",
              "    .dataframe tbody tr th:only-of-type {\n",
              "        vertical-align: middle;\n",
              "    }\n",
              "\n",
              "    .dataframe tbody tr th {\n",
              "        vertical-align: top;\n",
              "    }\n",
              "\n",
              "    .dataframe thead th {\n",
              "        text-align: right;\n",
              "    }\n",
              "</style>\n",
              "<table border=\"1\" class=\"dataframe\">\n",
              "  <thead>\n",
              "    <tr style=\"text-align: right;\">\n",
              "      <th></th>\n",
              "      <th>mean</th>\n",
              "      <th>mean_se</th>\n",
              "      <th>mean_ci_lower</th>\n",
              "      <th>mean_ci_upper</th>\n",
              "      <th>obs_ci_lower</th>\n",
              "      <th>obs_ci_upper</th>\n",
              "    </tr>\n",
              "  </thead>\n",
              "  <tbody>\n",
              "    <tr>\n",
              "      <th>0</th>\n",
              "      <td>54.852894</td>\n",
              "      <td>0.140042</td>\n",
              "      <td>54.578375</td>\n",
              "      <td>55.127413</td>\n",
              "      <td>36.40911</td>\n",
              "      <td>73.296678</td>\n",
              "    </tr>\n",
              "  </tbody>\n",
              "</table>\n",
              "</div>"
            ],
            "text/plain": [
              "        mean   mean_se  ...  obs_ci_lower  obs_ci_upper\n",
              "0  54.852894  0.140042  ...      36.40911     73.296678\n",
              "\n",
              "[1 rows x 6 columns]"
            ]
          },
          "metadata": {
            "tags": []
          },
          "execution_count": 11
        }
      ]
    },
    {
      "cell_type": "markdown",
      "metadata": {
        "id": "RN7SYAbZTq_p"
      },
      "source": [
        "The 95% prediction interval is [36.41, 73.3], which means it's 95% confident that the actual age of this record is between 36.41 and 73.3."
      ]
    }
  ]
}