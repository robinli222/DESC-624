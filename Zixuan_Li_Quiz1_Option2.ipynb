{
  "nbformat": 4,
  "nbformat_minor": 0,
  "metadata": {
    "colab": {
      "name": "DESC624.11 Q1.ipynb",
      "provenance": []
    },
    "kernelspec": {
      "name": "python3",
      "display_name": "Python 3"
    }
  },
  "cells": [
    {
      "cell_type": "markdown",
      "metadata": {
        "id": "uqqxsZIBC11C"
      },
      "source": [
        "## QUIZ 1 (Zixuan Li)"
      ]
    },
    {
      "cell_type": "code",
      "metadata": {
        "id": "oiBJ98-2d539"
      },
      "source": [
        "import numpy as np\n",
        "import matplotlib.pyplot as plt\n",
        "import seaborn as sns\n",
        "import pandas as pd\n",
        "\n",
        "from inspect import signature\n",
        "\n",
        "import sklearn\n",
        "from sklearn import linear_model, dummy, metrics\n",
        "from sklearn.linear_model import LogisticRegression\n",
        "from sklearn.dummy import DummyClassifier\n",
        "from sklearn.model_selection import train_test_split\n",
        "from sklearn.metrics import *"
      ],
      "execution_count": 1,
      "outputs": []
    },
    {
      "cell_type": "code",
      "metadata": {
        "id": "9wMbATncd8l_",
        "colab": {
          "base_uri": "https://localhost:8080/",
          "height": 221
        },
        "outputId": "2908a5f5-9afc-41c1-d96b-b951696f9cf7"
      },
      "source": [
        "column_names = [\"sex\", \"length\", \"diameter\", \"height\", \"whole weight\", \n",
        "                \"shucked weight\", \"viscera weight\", \"shell weight\", \"rings\"]\n",
        "\n",
        "url = 'https://archive.ics.uci.edu/ml/machine-learning-databases/abalone/abalone.data'\n",
        "\n",
        "df = pd.read_csv(url, names=column_names)\n",
        "print(\"Number of samples: %d\" % len(df))\n",
        "df.head()"
      ],
      "execution_count": 2,
      "outputs": [
        {
          "output_type": "stream",
          "text": [
            "Number of samples: 4177\n"
          ],
          "name": "stdout"
        },
        {
          "output_type": "execute_result",
          "data": {
            "text/html": [
              "<div>\n",
              "<style scoped>\n",
              "    .dataframe tbody tr th:only-of-type {\n",
              "        vertical-align: middle;\n",
              "    }\n",
              "\n",
              "    .dataframe tbody tr th {\n",
              "        vertical-align: top;\n",
              "    }\n",
              "\n",
              "    .dataframe thead th {\n",
              "        text-align: right;\n",
              "    }\n",
              "</style>\n",
              "<table border=\"1\" class=\"dataframe\">\n",
              "  <thead>\n",
              "    <tr style=\"text-align: right;\">\n",
              "      <th></th>\n",
              "      <th>sex</th>\n",
              "      <th>length</th>\n",
              "      <th>diameter</th>\n",
              "      <th>height</th>\n",
              "      <th>whole weight</th>\n",
              "      <th>shucked weight</th>\n",
              "      <th>viscera weight</th>\n",
              "      <th>shell weight</th>\n",
              "      <th>rings</th>\n",
              "    </tr>\n",
              "  </thead>\n",
              "  <tbody>\n",
              "    <tr>\n",
              "      <th>0</th>\n",
              "      <td>M</td>\n",
              "      <td>0.455</td>\n",
              "      <td>0.365</td>\n",
              "      <td>0.095</td>\n",
              "      <td>0.5140</td>\n",
              "      <td>0.2245</td>\n",
              "      <td>0.1010</td>\n",
              "      <td>0.150</td>\n",
              "      <td>15</td>\n",
              "    </tr>\n",
              "    <tr>\n",
              "      <th>1</th>\n",
              "      <td>M</td>\n",
              "      <td>0.350</td>\n",
              "      <td>0.265</td>\n",
              "      <td>0.090</td>\n",
              "      <td>0.2255</td>\n",
              "      <td>0.0995</td>\n",
              "      <td>0.0485</td>\n",
              "      <td>0.070</td>\n",
              "      <td>7</td>\n",
              "    </tr>\n",
              "    <tr>\n",
              "      <th>2</th>\n",
              "      <td>F</td>\n",
              "      <td>0.530</td>\n",
              "      <td>0.420</td>\n",
              "      <td>0.135</td>\n",
              "      <td>0.6770</td>\n",
              "      <td>0.2565</td>\n",
              "      <td>0.1415</td>\n",
              "      <td>0.210</td>\n",
              "      <td>9</td>\n",
              "    </tr>\n",
              "    <tr>\n",
              "      <th>3</th>\n",
              "      <td>M</td>\n",
              "      <td>0.440</td>\n",
              "      <td>0.365</td>\n",
              "      <td>0.125</td>\n",
              "      <td>0.5160</td>\n",
              "      <td>0.2155</td>\n",
              "      <td>0.1140</td>\n",
              "      <td>0.155</td>\n",
              "      <td>10</td>\n",
              "    </tr>\n",
              "    <tr>\n",
              "      <th>4</th>\n",
              "      <td>I</td>\n",
              "      <td>0.330</td>\n",
              "      <td>0.255</td>\n",
              "      <td>0.080</td>\n",
              "      <td>0.2050</td>\n",
              "      <td>0.0895</td>\n",
              "      <td>0.0395</td>\n",
              "      <td>0.055</td>\n",
              "      <td>7</td>\n",
              "    </tr>\n",
              "  </tbody>\n",
              "</table>\n",
              "</div>"
            ],
            "text/plain": [
              "  sex  length  diameter  ...  viscera weight  shell weight  rings\n",
              "0   M   0.455     0.365  ...          0.1010         0.150     15\n",
              "1   M   0.350     0.265  ...          0.0485         0.070      7\n",
              "2   F   0.530     0.420  ...          0.1415         0.210      9\n",
              "3   M   0.440     0.365  ...          0.1140         0.155     10\n",
              "4   I   0.330     0.255  ...          0.0395         0.055      7\n",
              "\n",
              "[5 rows x 9 columns]"
            ]
          },
          "metadata": {
            "tags": []
          },
          "execution_count": 2
        }
      ]
    },
    {
      "cell_type": "markdown",
      "metadata": {
        "id": "aKpwMdRoeAZq"
      },
      "source": [
        "Write a code that shows how many unique values are in the 'sex' column?"
      ]
    },
    {
      "cell_type": "code",
      "metadata": {
        "id": "xrKkn9rpzrQQ",
        "outputId": "a5597a39-075c-46f5-b84b-d59a0a98d39b",
        "colab": {
          "base_uri": "https://localhost:8080/"
        }
      },
      "source": [
        "df.sex.value_counts()"
      ],
      "execution_count": 3,
      "outputs": [
        {
          "output_type": "execute_result",
          "data": {
            "text/plain": [
              "M    1528\n",
              "I    1342\n",
              "F    1307\n",
              "Name: sex, dtype: int64"
            ]
          },
          "metadata": {
            "tags": []
          },
          "execution_count": 3
        }
      ]
    },
    {
      "cell_type": "code",
      "metadata": {
        "id": "pLa7mjOJePHE",
        "colab": {
          "base_uri": "https://localhost:8080/",
          "height": 355
        },
        "outputId": "6d19a14d-93b3-4bd4-9896-800ede54cb03"
      },
      "source": [
        "correlation_matrix = df.corr().round(2)\n",
        "# annot = True to print the values inside the square\n",
        "sns.heatmap(data=correlation_matrix, annot=True)"
      ],
      "execution_count": 4,
      "outputs": [
        {
          "output_type": "execute_result",
          "data": {
            "text/plain": [
              "<matplotlib.axes._subplots.AxesSubplot at 0x7f7b06199850>"
            ]
          },
          "metadata": {
            "tags": []
          },
          "execution_count": 4
        },
        {
          "output_type": "display_data",
          "data": {
            "image/png": "[encoded data removed]",
            "text/plain": [
              "<Figure size 432x288 with 2 Axes>"
            ]
          },
          "metadata": {
            "tags": [],
            "needs_background": "light"
          }
        }
      ]
    },
    {
      "cell_type": "markdown",
      "metadata": {
        "id": "8H6uPez8eTkH"
      },
      "source": [
        "Assume that we want to estimate weigth of a sample through linear regression, based on the correlation matrix suggest two predictors."
      ]
    },
    {
      "cell_type": "markdown",
      "metadata": {
        "id": "6pI6c-YYz3dx"
      },
      "source": [
        "Based on the correlation matrix, I suggest to use shucked weight and viscera weight as predictors to predict the weight of a sample, because these two variables have the highest correlation coefficient, which may generate more accurate prediction through linear regression."
      ]
    },
    {
      "cell_type": "code",
      "metadata": {
        "id": "z-Ki2TKneXIf"
      },
      "source": [
        "X = df[['length', 'diameter', 'height', 'whole weight', 'shucked weight',\n",
        "       'viscera weight', 'shell weight', 'rings']] #predictors\n",
        "\n",
        "\n",
        "y = df['sex'] #target"
      ],
      "execution_count": 5,
      "outputs": []
    },
    {
      "cell_type": "code",
      "metadata": {
        "id": "EueVEvoqeaYD"
      },
      "source": [
        "#the test set will be 30% of the dataset\n",
        "X_train, X_test, y_train, y_test = train_test_split(X, y, test_size=0.3, random_state=42)"
      ],
      "execution_count": 6,
      "outputs": []
    },
    {
      "cell_type": "markdown",
      "metadata": {
        "id": "kIO_p1pifaJs"
      },
      "source": [
        "Why we break our dataset into test and train?"
      ]
    },
    {
      "cell_type": "markdown",
      "metadata": {
        "id": "kvBtpli_0iCx"
      },
      "source": [
        "We break our dataset into test and training dataset to assess the performance of our model. If the accuracy of training dataset is very high, but that of test dataset is quite low, our model could be overfitting. If we don't make the split, and use only one dataset to both train and test the model, we are not able to identify overfitting problem, which is very common."
      ]
    },
    {
      "cell_type": "markdown",
      "metadata": {
        "id": "W2UmqV7Jfdf9"
      },
      "source": [
        "Explain logistic regression algorithm?\n",
        "\n",
        "Logistic regression algorithm is used to make categorical predictions. For example, we can use logistic regression to predict if a customer make a purchase or not, based on his/her characteristics and past behavior."
      ]
    },
    {
      "cell_type": "code",
      "metadata": {
        "id": "xV3GydgVeeWL"
      },
      "source": [
        "#Build the Logistic regression object\n",
        "logisticRegr = LogisticRegression(solver='liblinear',fit_intercept=True)\n",
        "#use logistic model to fit training data\n",
        "logisticRegr.fit(X_train, y_train)\n",
        "#generate predicted classes for test data\n",
        "logis_pred = logisticRegr.predict(X_test)\n",
        "#generate predicted probabilites for test data\n",
        "logis_pred_prob = logisticRegr.predict_proba(X_test)"
      ],
      "execution_count": 7,
      "outputs": []
    },
    {
      "cell_type": "code",
      "metadata": {
        "id": "VaVbrxnOehtg"
      },
      "source": [
        "#Build a \"dummy\" classifier that predicts every observation to be the most frequent class, in this case 'no-exit')\n",
        "dummy = DummyClassifier(strategy= 'most_frequent')\n",
        "dumb = dummy.fit(X_train,y_train)\n",
        "dumb_pred = dumb.predict(X_test)\n",
        "dumb_pred_prob = dumb.predict_proba(X_test)"
      ],
      "execution_count": 8,
      "outputs": []
    },
    {
      "cell_type": "code",
      "metadata": {
        "id": "NF6Uj7MhemUX",
        "colab": {
          "base_uri": "https://localhost:8080/"
        },
        "outputId": "4f8079fb-4eb5-4ceb-c127-e7aa68e899de"
      },
      "source": [
        "print(\"Test accuracy (Logistic Regression) =\", logisticRegr.score(X_test,y_test), end=\"\\n\\n\")\n",
        "\n",
        "print(\"Test accuracy (Dummy Classifier) =\", dumb.score(dumb_pred,y_test))"
      ],
      "execution_count": 9,
      "outputs": [
        {
          "output_type": "stream",
          "text": [
            "Test accuracy (Logistic Regression) = 0.5685805422647527\n",
            "\n",
            "Test accuracy (Dummy Classifier) = 0.3652312599681021\n"
          ],
          "name": "stdout"
        }
      ]
    },
    {
      "cell_type": "code",
      "metadata": {
        "id": "nUJJQ9dxep4o",
        "colab": {
          "base_uri": "https://localhost:8080/",
          "height": 468
        },
        "outputId": "6b2e830d-15af-4551-ba7b-2d0d6f8e559d"
      },
      "source": [
        "#generate confusion matrix for Dummy classifier\n",
        "cm_dummy = confusion_matrix(y_test, dumb_pred)\n",
        "#put it into a dataframe for seaborn plot function\n",
        "cm_dummy_df = pd.DataFrame(cm_dummy)\n",
        "\n",
        "#Use a seaborn heatmap to plot confusion matrices\n",
        "#The dataframe is transposed to make Actual values on x-axis and predicted on y-axis\n",
        "#annot = True includes the numbers in each box\n",
        "#vmin and vmax just adjusts the color value\n",
        "fig, ax = plt.subplots(figsize = (7,7))\n",
        "sns.heatmap(cm_dummy_df.T, annot=True, annot_kws={\"size\": 15}, cmap=\"Oranges\", vmin=0, vmax=800, fmt='.0f', linewidths=1, linecolor=\"white\", cbar=False,\n",
        "           xticklabels=[\"Male\",\"Infant\", 'Female'], yticklabels=[\"Male\",\"Infant\", 'Female'])\n",
        "plt.ylabel(\"Predicted\", fontsize=15)\n",
        "plt.xlabel(\"Actual\", fontsize=15)\n",
        "ax.set_xticklabels([\"Male\",\"Infant\", 'Female'], fontsize=13)\n",
        "ax.set_yticklabels([\"Male\",\"Infant\", 'Female'], fontsize=13)\n",
        "plt.title(\"Confusion Matrix for 'Dummy' Classifier - Counts\", fontsize=15)\n",
        "\n",
        "plt.show()"
      ],
      "execution_count": 10,
      "outputs": [
        {
          "output_type": "display_data",
          "data": {
            "image/png": "[encoded data removed]",
            "text/plain": [
              "<Figure size 504x504 with 1 Axes>"
            ]
          },
          "metadata": {
            "tags": [],
            "needs_background": "light"
          }
        }
      ]
    },
    {
      "cell_type": "code",
      "metadata": {
        "id": "CBLVqatO4cIi",
        "outputId": "405ee987-b1e8-42cf-c02c-ee3be61392eb",
        "colab": {
          "base_uri": "https://localhost:8080/",
          "height": 468
        }
      },
      "source": [
        "#generate confusion matrix for Logistic Regression classifier\n",
        "cm_logis = confusion_matrix(y_test, logis_pred)\n",
        "#put it into a dataframe for seaborn plot function\n",
        "cm_logis_df = pd.DataFrame(cm_logis)\n",
        "\n",
        "#Use a seaborn heatmap to plot confusion matrices\n",
        "#The dataframe is transposed to make Actual values on x-axis and predicted on y-axis\n",
        "#annot = True includes the numbers in each box\n",
        "#vmin and vmax just adjusts the color value\n",
        "fig, ax = plt.subplots(figsize = (7,7))\n",
        "sns.heatmap(cm_logis_df.T, annot=True, annot_kws={\"size\": 15}, cmap=\"Oranges\", vmin=0, vmax=800, fmt='.0f', linewidths=1, linecolor=\"white\", cbar=False,\n",
        "           xticklabels=[\"Male\",\"Infant\", 'Female'], yticklabels=[\"Male\",\"Infant\", 'Female'])\n",
        "plt.ylabel(\"Predicted\", fontsize=15)\n",
        "plt.xlabel(\"Actual\", fontsize=15)\n",
        "ax.set_xticklabels([\"Male\",\"Infant\", 'Female'], fontsize=13)\n",
        "ax.set_yticklabels([\"Male\",\"Infant\", 'Female'], fontsize=13)\n",
        "plt.title(\"Confusion Matrix for Logistic Regression Classifier - Counts\", fontsize=15)\n",
        "\n",
        "plt.show()"
      ],
      "execution_count": 11,
      "outputs": [
        {
          "output_type": "display_data",
          "data": {
            "image/png": "[encoded data removed]",
            "text/plain": [
              "<Figure size 504x504 with 1 Axes>"
            ]
          },
          "metadata": {
            "tags": [],
            "needs_background": "light"
          }
        }
      ]
    },
    {
      "cell_type": "markdown",
      "metadata": {
        "id": "VPP2rbPKevEw"
      },
      "source": [
        "Assume that we are interested in predicting Infants, what is the value of the following parameters (use the Confusion Matrix for Logstic Regression Classifier):\n",
        "\n",
        "True Postive: 354\n",
        "\n",
        "True Negative: 115 + 244 = 359\n",
        "\n",
        "Recall: (True Positive) / (True Positive + False Negative) = 354 / (354 + 74 + 111) = 65.68%"
      ]
    },
    {
      "cell_type": "markdown",
      "metadata": {
        "id": "jDQ9XGIbewNH"
      },
      "source": [
        "Why do we make a distinction between type 1 and type 2 errors? Use an example to convey your point.\n",
        "\n",
        "What is the difference between clustering and classification?"
      ]
    },
    {
      "cell_type": "markdown",
      "metadata": {
        "id": "7njUBV8I7Fbq"
      },
      "source": [
        "Type 1 error is False Positive, and Type 2 error is False Negative. We make distinction between them because the cost of making different errors are different. For example, a company is predicting whether a customer will purchase their product after receiving a promotion. If the company made a type 1 error and predict a certain customer will buy, but the customer didn't, the company wasted its promotional cost. However, if the company made a type 2 error and predict a certain customer won't buy, but the customer would. It will lose a potential customer by not sending the promotion."
      ]
    }
  ]
}